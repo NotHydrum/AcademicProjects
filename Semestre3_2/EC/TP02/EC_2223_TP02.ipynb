{
 "cells": [
  {
   "cell_type": "markdown",
   "metadata": {},
   "source": [
    "# Engenharia do Conhecimento 2022/2023\n",
    "\n",
    "## Decision Tree Modeling\n",
    "\n",
    "\n",
    "### A simple tutorial created for machine learning courses @ DI/FCUL\n",
    "(c) André Falcão - 2022-2023 + Cátia Pesquita + Sofia Teixeira + Nuno Garcia\n",
    "\n",
    "\n",
    "## Contents\n",
    "\n",
    "* Concept of disorder and entropy\n",
    "* Decision trees\n",
    "     * Selection of variables\n",
    "     * The ID3 algorithm\n",
    "     * How to make predictions\n",
    "* Exercises\n",
    "\n",
    "\n",
    "## Introduction\n",
    "\n",
    "This tutorial requires the following Python libraries to be installed:\n",
    "* numpy\n",
    "* pandas\n",
    "* scikit-learn\n",
    "\n",
    "\n",
    "## 1. The concept of disorder and entropy\n",
    "\n",
    "The idea of building decision trees for machine learning is based on a partition of the space of variables and choosing the variable that allows an improvement in the existing \"disorder\" by subdivision, aiming, in a classification problem, to find the variable that best separates the classes of a problem.\n",
    "\n",
    "The disorder of a system can be quantified by its [entropy](https://en.wikipedia.org/wiki/Entropy_(information_theory)), which is defined by the following formula:\n",
    "\n",
    "$Entropy=- \\sum_i{p_i . \\log_2{p_i}}$\n",
    "\n",
    "where $p_i$ is the probability (or proportion) of each class $i$ within a given set of instances. In the case of two classes, entropy is maximum ($Entropy=1.0$) when each class is equally represented ($p_i=0.5$). If on the other hand there is only one class, then we have $Entropy=0.0$\n",
    "\n",
    "We can define entropy with a function that takes a list of instances and calculates their probabilities and sum, using the `numpy` library"
   ]
  },
  {
   "cell_type": "code",
   "execution_count": 1,
   "metadata": {},
   "outputs": [],
   "source": [
    "import numpy as np\n",
    "def entropy(y):\n",
    "    values, counts = np.unique(y,return_counts=True)\n",
    "    probs=counts/len(y)\n",
    "    #print(counts, probs)\n",
    "    return -np.sum(probs*np.log2(probs))\n"
   ]
  },
  {
   "cell_type": "markdown",
   "metadata": {},
   "source": [
    "Imagining that we toss a coin several times in the air, let us calculate the entropy associated with the system"
   ]
  },
  {
   "cell_type": "code",
   "execution_count": 2,
   "metadata": {},
   "outputs": [
    {
     "name": "stdout",
     "output_type": "stream",
     "text": [
      "['Tails', 'Heads', 'Heads', 'Heads', 'Tails', 'Tails', 'Tails', 'Heads', 'Heads', 'Heads']\n",
      "The entropy is: 0.9709505944546686\n"
     ]
    }
   ],
   "source": [
    "from random import choices, seed\n",
    "seed(42)\n",
    "coin=choices([\"Heads\", \"Tails\"], k=10)\n",
    "print(coin)\n",
    "print(\"The entropy is:\", entropy(coin))"
   ]
  },
  {
   "cell_type": "markdown",
   "metadata": {},
   "source": [
    "On the other hand, if we only had \"Heads\" or only \"Tails\" the entropy would be zero, because we have a perfectly predictable system"
   ]
  },
  {
   "cell_type": "code",
   "execution_count": 3,
   "metadata": {},
   "outputs": [
    {
     "name": "stdout",
     "output_type": "stream",
     "text": [
      "['Head', 'Head', 'Head', 'Head', 'Head', 'Head', 'Head', 'Head', 'Head', 'Head']\n",
      "['Tail', 'Tail', 'Tail', 'Tail', 'Tail', 'Tail', 'Tail', 'Tail', 'Tail', 'Tail']\n",
      "The entropy is: -0.0\n",
      "The entropy is: -0.0\n"
     ]
    }
   ],
   "source": [
    "coin_head=[\"Head\"]*10\n",
    "coin_tail=[\"Tail\"]*10\n",
    "print(coin_head)\n",
    "print(coin_tail)\n",
    "print(\"The entropy is:\", entropy(coin_head))\n",
    "print(\"The entropy is:\", entropy(coin_tail))"
   ]
  },
  {
   "cell_type": "markdown",
   "metadata": {},
   "source": [
    "## 2. Introduction to Decision Trees as Entropy Decreasing Strategies\n",
    "\n",
    "In a decision tree we want to find the best way to divide the multidimensional space of the problem so that the entropy is as small as possible on both sides of the choice.\n",
    "\n",
    "Let's now take the example of a decision we would like to make in order to know whether to play tennis or not. [In this dataset](https://www.kaggle.com/fredericobreno/play-tennis) we have 4 environmental variables (*outlook, temp, humidity and wind*) and a dependent variable (*play*) and each line represents the 14-day record in which he decided whether or not to play according to the variables observed.\n",
    "\n",
    "The goal is to try to understand the best way to divide the space to try to make the cases with `play=\"Yes\"` separate from the cases with `play=\"No\"`\n",
    "\n",
    "Here we will use the pandas library for reading a text file and managing and presenting data through a dataframe."
   ]
  },
  {
   "cell_type": "code",
   "execution_count": 4,
   "metadata": {},
   "outputs": [
    {
     "data": {
      "text/html": [
       "<div>\n",
       "<style scoped>\n",
       "    .dataframe tbody tr th:only-of-type {\n",
       "        vertical-align: middle;\n",
       "    }\n",
       "\n",
       "    .dataframe tbody tr th {\n",
       "        vertical-align: top;\n",
       "    }\n",
       "\n",
       "    .dataframe thead th {\n",
       "        text-align: right;\n",
       "    }\n",
       "</style>\n",
       "<table border=\"1\" class=\"dataframe\">\n",
       "  <thead>\n",
       "    <tr style=\"text-align: right;\">\n",
       "      <th></th>\n",
       "      <th>day</th>\n",
       "      <th>outlook</th>\n",
       "      <th>temp</th>\n",
       "      <th>humidity</th>\n",
       "      <th>wind</th>\n",
       "      <th>play</th>\n",
       "    </tr>\n",
       "  </thead>\n",
       "  <tbody>\n",
       "    <tr>\n",
       "      <th>0</th>\n",
       "      <td>D1</td>\n",
       "      <td>Sunny</td>\n",
       "      <td>Hot</td>\n",
       "      <td>High</td>\n",
       "      <td>Weak</td>\n",
       "      <td>No</td>\n",
       "    </tr>\n",
       "    <tr>\n",
       "      <th>1</th>\n",
       "      <td>D2</td>\n",
       "      <td>Sunny</td>\n",
       "      <td>Hot</td>\n",
       "      <td>High</td>\n",
       "      <td>Strong</td>\n",
       "      <td>No</td>\n",
       "    </tr>\n",
       "    <tr>\n",
       "      <th>2</th>\n",
       "      <td>D3</td>\n",
       "      <td>Overcast</td>\n",
       "      <td>Hot</td>\n",
       "      <td>High</td>\n",
       "      <td>Weak</td>\n",
       "      <td>Yes</td>\n",
       "    </tr>\n",
       "    <tr>\n",
       "      <th>3</th>\n",
       "      <td>D4</td>\n",
       "      <td>Rain</td>\n",
       "      <td>Mild</td>\n",
       "      <td>High</td>\n",
       "      <td>Weak</td>\n",
       "      <td>Yes</td>\n",
       "    </tr>\n",
       "    <tr>\n",
       "      <th>4</th>\n",
       "      <td>D5</td>\n",
       "      <td>Rain</td>\n",
       "      <td>Cool</td>\n",
       "      <td>Normal</td>\n",
       "      <td>Weak</td>\n",
       "      <td>Yes</td>\n",
       "    </tr>\n",
       "    <tr>\n",
       "      <th>5</th>\n",
       "      <td>D6</td>\n",
       "      <td>Rain</td>\n",
       "      <td>Cool</td>\n",
       "      <td>Normal</td>\n",
       "      <td>Strong</td>\n",
       "      <td>No</td>\n",
       "    </tr>\n",
       "    <tr>\n",
       "      <th>6</th>\n",
       "      <td>D7</td>\n",
       "      <td>Overcast</td>\n",
       "      <td>Cool</td>\n",
       "      <td>Normal</td>\n",
       "      <td>Strong</td>\n",
       "      <td>Yes</td>\n",
       "    </tr>\n",
       "    <tr>\n",
       "      <th>7</th>\n",
       "      <td>D8</td>\n",
       "      <td>Sunny</td>\n",
       "      <td>Mild</td>\n",
       "      <td>High</td>\n",
       "      <td>Weak</td>\n",
       "      <td>No</td>\n",
       "    </tr>\n",
       "    <tr>\n",
       "      <th>8</th>\n",
       "      <td>D9</td>\n",
       "      <td>Sunny</td>\n",
       "      <td>Cool</td>\n",
       "      <td>Normal</td>\n",
       "      <td>Weak</td>\n",
       "      <td>Yes</td>\n",
       "    </tr>\n",
       "    <tr>\n",
       "      <th>9</th>\n",
       "      <td>D10</td>\n",
       "      <td>Rain</td>\n",
       "      <td>Mild</td>\n",
       "      <td>Normal</td>\n",
       "      <td>Weak</td>\n",
       "      <td>Yes</td>\n",
       "    </tr>\n",
       "    <tr>\n",
       "      <th>10</th>\n",
       "      <td>D11</td>\n",
       "      <td>Sunny</td>\n",
       "      <td>Mild</td>\n",
       "      <td>Normal</td>\n",
       "      <td>Strong</td>\n",
       "      <td>Yes</td>\n",
       "    </tr>\n",
       "    <tr>\n",
       "      <th>11</th>\n",
       "      <td>D12</td>\n",
       "      <td>Overcast</td>\n",
       "      <td>Mild</td>\n",
       "      <td>High</td>\n",
       "      <td>Strong</td>\n",
       "      <td>Yes</td>\n",
       "    </tr>\n",
       "    <tr>\n",
       "      <th>12</th>\n",
       "      <td>D13</td>\n",
       "      <td>Overcast</td>\n",
       "      <td>Hot</td>\n",
       "      <td>Normal</td>\n",
       "      <td>Weak</td>\n",
       "      <td>Yes</td>\n",
       "    </tr>\n",
       "    <tr>\n",
       "      <th>13</th>\n",
       "      <td>D14</td>\n",
       "      <td>Rain</td>\n",
       "      <td>Mild</td>\n",
       "      <td>High</td>\n",
       "      <td>Strong</td>\n",
       "      <td>No</td>\n",
       "    </tr>\n",
       "  </tbody>\n",
       "</table>\n",
       "</div>"
      ],
      "text/plain": [
       "    day   outlook  temp humidity    wind play\n",
       "0    D1     Sunny   Hot     High    Weak   No\n",
       "1    D2     Sunny   Hot     High  Strong   No\n",
       "2    D3  Overcast   Hot     High    Weak  Yes\n",
       "3    D4      Rain  Mild     High    Weak  Yes\n",
       "4    D5      Rain  Cool   Normal    Weak  Yes\n",
       "5    D6      Rain  Cool   Normal  Strong   No\n",
       "6    D7  Overcast  Cool   Normal  Strong  Yes\n",
       "7    D8     Sunny  Mild     High    Weak   No\n",
       "8    D9     Sunny  Cool   Normal    Weak  Yes\n",
       "9   D10      Rain  Mild   Normal    Weak  Yes\n",
       "10  D11     Sunny  Mild   Normal  Strong  Yes\n",
       "11  D12  Overcast  Mild     High  Strong  Yes\n",
       "12  D13  Overcast   Hot   Normal    Weak  Yes\n",
       "13  D14      Rain  Mild     High  Strong   No"
      ]
     },
     "execution_count": 4,
     "metadata": {},
     "output_type": "execute_result"
    }
   ],
   "source": [
    "import pandas as pd\n",
    "tennis= pd.read_csv(\"tennis.txt\", sep=\"\\t\")\n",
    "tennis"
   ]
  },
  {
   "cell_type": "markdown",
   "metadata": {},
   "source": [
    "The best way to proceed is simple. We will evaluate which of the 4 variables achieves a greater reduction in entropy in the various branches that we can have. \n",
    "\n",
    "Let's start with an example. The outlook variable has 3 possible values:\n",
    "* Sunny\n",
    "* Overcast\n",
    "* Rain\n",
    "\n",
    "To separate each of these sets of observations, we can use pandas DataFrame filters."
   ]
  },
  {
   "cell_type": "code",
   "execution_count": 5,
   "metadata": {},
   "outputs": [
    {
     "data": {
      "text/html": [
       "<div>\n",
       "<style scoped>\n",
       "    .dataframe tbody tr th:only-of-type {\n",
       "        vertical-align: middle;\n",
       "    }\n",
       "\n",
       "    .dataframe tbody tr th {\n",
       "        vertical-align: top;\n",
       "    }\n",
       "\n",
       "    .dataframe thead th {\n",
       "        text-align: right;\n",
       "    }\n",
       "</style>\n",
       "<table border=\"1\" class=\"dataframe\">\n",
       "  <thead>\n",
       "    <tr style=\"text-align: right;\">\n",
       "      <th></th>\n",
       "      <th>day</th>\n",
       "      <th>outlook</th>\n",
       "      <th>temp</th>\n",
       "      <th>humidity</th>\n",
       "      <th>wind</th>\n",
       "      <th>play</th>\n",
       "    </tr>\n",
       "  </thead>\n",
       "  <tbody>\n",
       "    <tr>\n",
       "      <th>0</th>\n",
       "      <td>D1</td>\n",
       "      <td>Sunny</td>\n",
       "      <td>Hot</td>\n",
       "      <td>High</td>\n",
       "      <td>Weak</td>\n",
       "      <td>No</td>\n",
       "    </tr>\n",
       "    <tr>\n",
       "      <th>1</th>\n",
       "      <td>D2</td>\n",
       "      <td>Sunny</td>\n",
       "      <td>Hot</td>\n",
       "      <td>High</td>\n",
       "      <td>Strong</td>\n",
       "      <td>No</td>\n",
       "    </tr>\n",
       "    <tr>\n",
       "      <th>7</th>\n",
       "      <td>D8</td>\n",
       "      <td>Sunny</td>\n",
       "      <td>Mild</td>\n",
       "      <td>High</td>\n",
       "      <td>Weak</td>\n",
       "      <td>No</td>\n",
       "    </tr>\n",
       "    <tr>\n",
       "      <th>8</th>\n",
       "      <td>D9</td>\n",
       "      <td>Sunny</td>\n",
       "      <td>Cool</td>\n",
       "      <td>Normal</td>\n",
       "      <td>Weak</td>\n",
       "      <td>Yes</td>\n",
       "    </tr>\n",
       "    <tr>\n",
       "      <th>10</th>\n",
       "      <td>D11</td>\n",
       "      <td>Sunny</td>\n",
       "      <td>Mild</td>\n",
       "      <td>Normal</td>\n",
       "      <td>Strong</td>\n",
       "      <td>Yes</td>\n",
       "    </tr>\n",
       "  </tbody>\n",
       "</table>\n",
       "</div>"
      ],
      "text/plain": [
       "    day outlook  temp humidity    wind play\n",
       "0    D1   Sunny   Hot     High    Weak   No\n",
       "1    D2   Sunny   Hot     High  Strong   No\n",
       "7    D8   Sunny  Mild     High    Weak   No\n",
       "8    D9   Sunny  Cool   Normal    Weak  Yes\n",
       "10  D11   Sunny  Mild   Normal  Strong  Yes"
      ]
     },
     "execution_count": 5,
     "metadata": {},
     "output_type": "execute_result"
    }
   ],
   "source": [
    "tennis[tennis[\"outlook\"]==\"Sunny\"]"
   ]
  },
  {
   "cell_type": "code",
   "execution_count": 6,
   "metadata": {},
   "outputs": [
    {
     "data": {
      "text/html": [
       "<div>\n",
       "<style scoped>\n",
       "    .dataframe tbody tr th:only-of-type {\n",
       "        vertical-align: middle;\n",
       "    }\n",
       "\n",
       "    .dataframe tbody tr th {\n",
       "        vertical-align: top;\n",
       "    }\n",
       "\n",
       "    .dataframe thead th {\n",
       "        text-align: right;\n",
       "    }\n",
       "</style>\n",
       "<table border=\"1\" class=\"dataframe\">\n",
       "  <thead>\n",
       "    <tr style=\"text-align: right;\">\n",
       "      <th></th>\n",
       "      <th>day</th>\n",
       "      <th>outlook</th>\n",
       "      <th>temp</th>\n",
       "      <th>humidity</th>\n",
       "      <th>wind</th>\n",
       "      <th>play</th>\n",
       "    </tr>\n",
       "  </thead>\n",
       "  <tbody>\n",
       "    <tr>\n",
       "      <th>2</th>\n",
       "      <td>D3</td>\n",
       "      <td>Overcast</td>\n",
       "      <td>Hot</td>\n",
       "      <td>High</td>\n",
       "      <td>Weak</td>\n",
       "      <td>Yes</td>\n",
       "    </tr>\n",
       "    <tr>\n",
       "      <th>6</th>\n",
       "      <td>D7</td>\n",
       "      <td>Overcast</td>\n",
       "      <td>Cool</td>\n",
       "      <td>Normal</td>\n",
       "      <td>Strong</td>\n",
       "      <td>Yes</td>\n",
       "    </tr>\n",
       "    <tr>\n",
       "      <th>11</th>\n",
       "      <td>D12</td>\n",
       "      <td>Overcast</td>\n",
       "      <td>Mild</td>\n",
       "      <td>High</td>\n",
       "      <td>Strong</td>\n",
       "      <td>Yes</td>\n",
       "    </tr>\n",
       "    <tr>\n",
       "      <th>12</th>\n",
       "      <td>D13</td>\n",
       "      <td>Overcast</td>\n",
       "      <td>Hot</td>\n",
       "      <td>Normal</td>\n",
       "      <td>Weak</td>\n",
       "      <td>Yes</td>\n",
       "    </tr>\n",
       "  </tbody>\n",
       "</table>\n",
       "</div>"
      ],
      "text/plain": [
       "    day   outlook  temp humidity    wind play\n",
       "2    D3  Overcast   Hot     High    Weak  Yes\n",
       "6    D7  Overcast  Cool   Normal  Strong  Yes\n",
       "11  D12  Overcast  Mild     High  Strong  Yes\n",
       "12  D13  Overcast   Hot   Normal    Weak  Yes"
      ]
     },
     "execution_count": 6,
     "metadata": {},
     "output_type": "execute_result"
    }
   ],
   "source": [
    "tennis[tennis[\"outlook\"]==\"Overcast\"]"
   ]
  },
  {
   "cell_type": "code",
   "execution_count": 7,
   "metadata": {},
   "outputs": [
    {
     "data": {
      "text/html": [
       "<div>\n",
       "<style scoped>\n",
       "    .dataframe tbody tr th:only-of-type {\n",
       "        vertical-align: middle;\n",
       "    }\n",
       "\n",
       "    .dataframe tbody tr th {\n",
       "        vertical-align: top;\n",
       "    }\n",
       "\n",
       "    .dataframe thead th {\n",
       "        text-align: right;\n",
       "    }\n",
       "</style>\n",
       "<table border=\"1\" class=\"dataframe\">\n",
       "  <thead>\n",
       "    <tr style=\"text-align: right;\">\n",
       "      <th></th>\n",
       "      <th>day</th>\n",
       "      <th>outlook</th>\n",
       "      <th>temp</th>\n",
       "      <th>humidity</th>\n",
       "      <th>wind</th>\n",
       "      <th>play</th>\n",
       "    </tr>\n",
       "  </thead>\n",
       "  <tbody>\n",
       "    <tr>\n",
       "      <th>3</th>\n",
       "      <td>D4</td>\n",
       "      <td>Rain</td>\n",
       "      <td>Mild</td>\n",
       "      <td>High</td>\n",
       "      <td>Weak</td>\n",
       "      <td>Yes</td>\n",
       "    </tr>\n",
       "    <tr>\n",
       "      <th>4</th>\n",
       "      <td>D5</td>\n",
       "      <td>Rain</td>\n",
       "      <td>Cool</td>\n",
       "      <td>Normal</td>\n",
       "      <td>Weak</td>\n",
       "      <td>Yes</td>\n",
       "    </tr>\n",
       "    <tr>\n",
       "      <th>5</th>\n",
       "      <td>D6</td>\n",
       "      <td>Rain</td>\n",
       "      <td>Cool</td>\n",
       "      <td>Normal</td>\n",
       "      <td>Strong</td>\n",
       "      <td>No</td>\n",
       "    </tr>\n",
       "    <tr>\n",
       "      <th>9</th>\n",
       "      <td>D10</td>\n",
       "      <td>Rain</td>\n",
       "      <td>Mild</td>\n",
       "      <td>Normal</td>\n",
       "      <td>Weak</td>\n",
       "      <td>Yes</td>\n",
       "    </tr>\n",
       "    <tr>\n",
       "      <th>13</th>\n",
       "      <td>D14</td>\n",
       "      <td>Rain</td>\n",
       "      <td>Mild</td>\n",
       "      <td>High</td>\n",
       "      <td>Strong</td>\n",
       "      <td>No</td>\n",
       "    </tr>\n",
       "  </tbody>\n",
       "</table>\n",
       "</div>"
      ],
      "text/plain": [
       "    day outlook  temp humidity    wind play\n",
       "3    D4    Rain  Mild     High    Weak  Yes\n",
       "4    D5    Rain  Cool   Normal    Weak  Yes\n",
       "5    D6    Rain  Cool   Normal  Strong   No\n",
       "9   D10    Rain  Mild   Normal    Weak  Yes\n",
       "13  D14    Rain  Mild     High  Strong   No"
      ]
     },
     "execution_count": 7,
     "metadata": {},
     "output_type": "execute_result"
    }
   ],
   "source": [
    "tennis[tennis[\"outlook\"]==\"Rain\"]"
   ]
  },
  {
   "cell_type": "markdown",
   "metadata": {},
   "source": [
    "By observation of the tables, we can already see that one of the possibilities has an entropy of 0 (outlook =\"Overcast\")! This is because whatever the values of the other variables, the outcome is always YES, we always play! This implies an entropy of zero on that branch of the tree. Let's now quantify the entropies for each of these situations:"
   ]
  },
  {
   "cell_type": "code",
   "execution_count": 8,
   "metadata": {},
   "outputs": [
    {
     "name": "stdout",
     "output_type": "stream",
     "text": [
      "A entropia do ramo sunny é     0.9710\n",
      "A entropia do ramo overcast é -0.0000\n",
      "A entropia do ramo rain é      0.9710\n"
     ]
    }
   ],
   "source": [
    "sunn = tennis[tennis[\"outlook\"]==\"Sunny\"][\"play\"]\n",
    "over = tennis[tennis[\"outlook\"]==\"Overcast\"][\"play\"]\n",
    "rain = tennis[tennis[\"outlook\"]==\"Rain\"][\"play\"]\n",
    "print(\"A entropia do ramo sunny é    %7.4f\"% entropy(sunn))\n",
    "print(\"A entropia do ramo overcast é %7.4f\"% entropy(over))\n",
    "print(\"A entropia do ramo rain é     %7.4f\"% entropy(rain))"
   ]
  },
  {
   "cell_type": "markdown",
   "metadata": {},
   "source": [
    "So if you applied outlook as a division criterion, how could we calculate the total entropy after division?\n",
    "This will have to be proportional to the total number of elements that are in each branch.\n",
    "\n",
    "In a **perfect** division each branch would have only one type of result: Yes or No, that is, there would be zero entropy in each branch and the final entropy value of the system would consequently be zero.\n",
    "\n",
    "In our case and choosing outlook as the first variable, the entropy after split is calculated by summing the entropy of each variable multiplied by the fraction of each possible value of that variable:"
   ]
  },
  {
   "cell_type": "code",
   "execution_count": 9,
   "metadata": {},
   "outputs": [
    {
     "name": "stdout",
     "output_type": "stream",
     "text": [
      "Entropy after splitting using Outlook is:  0.6935\n"
     ]
    }
   ],
   "source": [
    "N=len(tennis.index)\n",
    "e_after_outlook = len(sunn)/N*entropy(sunn) + len(over)/N*entropy(over) + len(rain)/N*entropy(rain)\n",
    "print(\"Entropy after splitting using Outlook is: %7.4f\" % e_after_outlook)"
   ]
  },
  {
   "cell_type": "markdown",
   "metadata": {},
   "source": [
    "\n",
    "## 3. The variable selection process\n",
    "\n",
    "The entire process of building decision trees through the ID3 algorithm is based on the principle of choosing which variable decreases the entropy of our system. Continuing for each branch of the tree, the lines of the already filtered data matrix are subdivided using new criteria until reaching a stopping criterion. The most obvious and important being achieving a \"pure\" node (only in that part of the tree we only arrived at one type of value). This is not always possible and there are other stopping criteria such as the maximum depth of the tree reached, minimum number of elements in each leaf of the tree, minimum entropy, etc.\n",
    "\n",
    "However, in order to know which is the best variable to start with, the idea of ​​the ID3 algorithm is to use a greedy criterion, that is, to identify which variable allows the lowest entropy after splitting the data.\n",
    "\n",
    "The `select_var` function takes 2 arguments:\n",
    "* `X` - a data matrix with only the relevant columns and rows (independent variables)\n",
    "* `y` - data vector with only the values ​​of the dependent variable (the one for which entropy will be measured)\n",
    "\n",
    "The function explores all available variables as columns in the `X` array and returns the index of the column that has the greatest discriminatory power."
   ]
  },
  {
   "cell_type": "code",
   "execution_count": 10,
   "metadata": {},
   "outputs": [],
   "source": [
    "def select_var(X, y):\n",
    "    N,M = X.shape\n",
    "    min_ent=1e34\n",
    "    best_var=-1\n",
    "    for v in range(M):\n",
    "        ent=0\n",
    "        for val in np.unique(X[:,v]):\n",
    "            srows = X[:,v] == val\n",
    "            ent+=np.sum(srows)/N*entropy(y[srows])\n",
    "        if ent<min_ent:\n",
    "            min_ent=ent\n",
    "            best_var=v\n",
    "    return best_var"
   ]
  },
  {
   "cell_type": "markdown",
   "metadata": {},
   "source": [
    "Before running the function we have to separate the dependent variables from the independent ones and use only the relevant columns within the dataset (columns 1,2,3 and 4), we must also extract the column names, as they will be useful in the future to interpret the results and build models"
   ]
  },
  {
   "cell_type": "code",
   "execution_count": 11,
   "metadata": {},
   "outputs": [
    {
     "name": "stdout",
     "output_type": "stream",
     "text": [
      "os nomes das colunas são:  ['outlook' 'temp' 'humidity' 'wind']\n",
      "A melhor variável é a coluna 0 que corresponde a outlook\n"
     ]
    }
   ],
   "source": [
    "col_names=np.array(tennis.columns)[[1,2,3,4]]\n",
    "print(\"os nomes das colunas são: \", col_names)\n",
    "X = tennis.values[:,(1,2,3,4)]\n",
    "y = tennis.values[:,5]\n",
    "best_var=select_var(X, y)\n",
    "print(\"A melhor variável é a coluna %s que corresponde a %s\" %(best_var, col_names[best_var]) )\n",
    "#dir(tennis) "
   ]
  },
  {
   "cell_type": "markdown",
   "metadata": {},
   "source": [
    "### Exercise 1\n",
    "\n",
    "Já sabemos que a variável outlook é a melhor, mas quais são a 2a e a 3a melhores?"
   ]
  },
  {
   "cell_type": "code",
   "execution_count": 12,
   "metadata": {},
   "outputs": [
    {
     "name": "stdout",
     "output_type": "stream",
     "text": [
      "A entropia depois da divisão por outlook fica:  0.6935\n",
      "A entropia depois da divisão por temp fica:  0.9111\n",
      "A entropia depois da divisão por humidity fica:  0.7885\n",
      "A entropia depois da divisão por wind fica:  0.8922\n"
     ]
    }
   ],
   "source": [
    "N=len(tennis.index)\n",
    "\n",
    "#outlook\n",
    "\n",
    "sunn = tennis[tennis[\"outlook\"]==\"Sunny\"][\"play\"]\n",
    "over = tennis[tennis[\"outlook\"]==\"Overcast\"][\"play\"]\n",
    "rain = tennis[tennis[\"outlook\"]==\"Rain\"][\"play\"]\n",
    "\n",
    "e_after_outlook = len(sunn)/N*entropy(sunn) + len(over)/N*entropy(over) + len(rain)/N*entropy(rain)\n",
    "\n",
    "print(\"A entropia depois da divisão por outlook fica: %7.4f\" % e_after_outlook)\n",
    "\n",
    "#temperature\n",
    "\n",
    "hot = tennis[tennis[\"temp\"]==\"Hot\"][\"play\"]\n",
    "mild = tennis[tennis[\"temp\"]==\"Mild\"][\"play\"]\n",
    "cool = tennis[tennis[\"temp\"]==\"Cool\"][\"play\"]\n",
    "\n",
    "e_after_temp = len(hot)/N*entropy(hot) + len(mild)/N*entropy(mild) + len(cool)/N*entropy(cool)\n",
    "\n",
    "print(\"A entropia depois da divisão por temp fica: %7.4f\" % e_after_temp)\n",
    "\n",
    "#humidity\n",
    "\n",
    "high = tennis[tennis[\"humidity\"]==\"High\"][\"play\"]\n",
    "norm = tennis[tennis[\"humidity\"]==\"Normal\"][\"play\"]\n",
    "\n",
    "e_after_humidity = len(high)/N*entropy(high) + len(norm)/N*entropy(norm)\n",
    "\n",
    "print(\"A entropia depois da divisão por humidity fica: %7.4f\" % e_after_humidity)\n",
    "\n",
    "#wind\n",
    "\n",
    "weak = tennis[tennis[\"wind\"]==\"Weak\"][\"play\"]\n",
    "strong = tennis[tennis[\"wind\"]==\"Strong\"][\"play\"]\n",
    "\n",
    "e_after_wind = len(weak)/N*entropy(weak) + len(strong)/N*entropy(strong)\n",
    "\n",
    "print(\"A entropia depois da divisão por wind fica: %7.4f\" % e_after_wind)\n",
    "\n",
    "#humidity e wind são o 2º e 3º melhores"
   ]
  },
  {
   "cell_type": "markdown",
   "metadata": {},
   "source": [
    "### Exercise 2\n",
    "\n",
    "After splitting the dataset into 3 using `outlook`, what will be the best variable to partition each of the branches produced?"
   ]
  },
  {
   "cell_type": "code",
   "execution_count": 13,
   "metadata": {},
   "outputs": [
    {
     "name": "stdout",
     "output_type": "stream",
     "text": [
      "A melhor variável para partir o ramo da árvore com outlook=Sunny é: temp\n",
      "A melhor variável para partir o ramo da árvore com outlook=Rain  é: humidity\n"
     ]
    }
   ],
   "source": [
    "#Resolução do exercício 2\n",
    "#O ramo overcast não necessita ser partido, pois já é puro: Isto é joga-se sempre. \n",
    "# Só necessitamos de fazer para os outros dois casos\n",
    "\n",
    "X2 = tennis[tennis[\"outlook\"]==\"Sunny\"].values[:, (2,3,4)]\n",
    "y2 = tennis[tennis[\"outlook\"]==\"Sunny\"].values[:, 5]\n",
    "\n",
    "best_var_sun = select_var(X2, y2)\n",
    "\n",
    "print(\"A melhor variável para partir o ramo da árvore com outlook=Sunny é:\", col_names[best_var_sun])\n",
    "\n",
    "X3 = tennis[tennis[\"outlook\"]==\"Rain\"].values[:, (2,3,4)]\n",
    "y3 = tennis[tennis[\"outlook\"]==\"Rain\"].values[:, 5]\n",
    "\n",
    "best_var_rain = select_var(X3, y3)\n",
    "\n",
    "print(\"A melhor variável para partir o ramo da árvore com outlook=Rain  é:\", col_names[best_var_rain])"
   ]
  },
  {
   "cell_type": "markdown",
   "metadata": {},
   "source": [
    "## 4. A simple implementation of the ID3 algorithm for generating decision trees\n",
    "\n",
    "Starting from the above functions it is relatively simple, using a set of basic assumptions, to define a decision tree using the ID3 algorithm.\n",
    "\n",
    "The basic algorithm will work recursively as follows\n",
    "1. For a given data set, identify which variable best subdivides the space through the criterion of minimum entropy\n",
    "2. Subdivide the space according to the values of the chosen variable creating several subspaces\n",
    "3. Until a stopping criterion is reached, for each of the subspaces created, return to 1.\n",
    "\n",
    "As stopping criteria in our implementation we will use the following:\n",
    "* if a node is pure (all values equal => entropy = 0)\n",
    "* No more variables to split\n",
    "\n",
    "The 2nd criterion may imply that the resulting node is not pure, and thus the value assigned to this leaf node will be that of the majority"
   ]
  },
  {
   "cell_type": "code",
   "execution_count": 14,
   "metadata": {},
   "outputs": [],
   "source": [
    "def decision_tree(X, y, col_names, the_path=[]):\n",
    "    sv=select_var(X, y)\n",
    "    N,M=X.shape\n",
    "    if M==1:\n",
    "        if len(np.unique(y))==1:\n",
    "            #pure node\n",
    "            the_path.append(str(y[0]))\n",
    "        else:\n",
    "            #this situation is when the node is not pure!\n",
    "            #here we will return the most common value\n",
    "            values, counts = np.unique(y,return_counts=True)\n",
    "            the_path.append(str(values[counts.argmax()]))\n",
    "    else:\n",
    "        X0=np.delete(X, sv, 1)\n",
    "        cnames=np.delete(col_names,sv)\n",
    "        for val in np.unique(X[:,sv]):\n",
    "            srows = X[:,sv]==val\n",
    "            X_new=X0[srows, :]\n",
    "            y_new=y[srows]\n",
    "            the_path.append([(col_names[sv], val)])\n",
    "            if len(np.unique(y_new))>1:\n",
    "                decision_tree(X_new, y_new, cnames, the_path[-1] )\n",
    "            else:\n",
    "                #pure node - recursive process ends here\n",
    "                the_path[-1].append(str(y_new[0]))\n",
    "    return the_path"
   ]
  },
  {
   "cell_type": "markdown",
   "metadata": {},
   "source": [
    "Let's run our data and check what the output is like:"
   ]
  },
  {
   "cell_type": "code",
   "execution_count": 15,
   "metadata": {},
   "outputs": [
    {
     "name": "stdout",
     "output_type": "stream",
     "text": [
      "0 [('outlook', 'Overcast'), 'Yes']\n",
      "1 [('outlook', 'Rain'), [('wind', 'Strong'), 'No'], [('wind', 'Weak'), 'Yes']]\n",
      "2 [('outlook', 'Sunny'), [('humidity', 'High'), 'No'], [('humidity', 'Normal'), 'Yes']]\n"
     ]
    }
   ],
   "source": [
    "tree=decision_tree(X, y, col_names,[])\n",
    "\n",
    "for i,b in enumerate(tree):\n",
    "    print(i, b)"
   ]
  },
  {
   "cell_type": "markdown",
   "metadata": {},
   "source": [
    "The output is a nested Python list in which the most likely classification result appears in the terminal branches (leaves).\n",
    "\n",
    "We can get a more sympathetic view of the list by a recursive exploratory process"
   ]
  },
  {
   "cell_type": "code",
   "execution_count": 16,
   "metadata": {},
   "outputs": [
    {
     "name": "stdout",
     "output_type": "stream",
     "text": [
      " outlook = Overcast --> Yes\n",
      " outlook = Rain\n",
      "\t wind = Strong --> No\n",
      "\t wind = Weak --> Yes\n",
      " outlook = Sunny\n",
      "\t humidity = High --> No\n",
      "\t humidity = Normal --> Yes\n"
     ]
    }
   ],
   "source": [
    "def show_tree(tree, level=0):\n",
    "    for branch in tree:\n",
    "        if type(branch[1])==str and not isinstance(branch, tuple):\n",
    "            print(\"\\t\"*(level), \"%s = %s --> %s\" % (branch[0][0], branch[0][1], branch[1]))\n",
    "        elif type(branch[1])==list:\n",
    "            print(\"\\t\"*level,  \"%s = %s\" % (branch[0][0], branch[0][1]))\n",
    "            show_tree(branch, level+1)\n",
    "\n",
    "show_tree(tree)"
   ]
  },
  {
   "cell_type": "markdown",
   "metadata": {},
   "source": [
    "From Tom Mitchell's book [Machine Learning](http://www.cs.cmu.edu/~tom/mlbook.html) we can compare the correct solution to the problem\n",
    "\n",
    "![image info](playtennis.png)\n",
    "\n",
    "Here we can have a clear view of the entire tree, and the built rules are simple to be interpreted\n",
    "\n",
    "\n",
    "### Exercise 3\n",
    "\n",
    "Create a new dataset (X2 and y2) with the file `tennis2.txt`, which differs from the previous one only by having one more line. Visualize the dataset and then the produced tree. comment the results\n"
   ]
  },
  {
   "cell_type": "code",
   "execution_count": 17,
   "metadata": {},
   "outputs": [
    {
     "data": {
      "text/html": [
       "<div>\n",
       "<style scoped>\n",
       "    .dataframe tbody tr th:only-of-type {\n",
       "        vertical-align: middle;\n",
       "    }\n",
       "\n",
       "    .dataframe tbody tr th {\n",
       "        vertical-align: top;\n",
       "    }\n",
       "\n",
       "    .dataframe thead th {\n",
       "        text-align: right;\n",
       "    }\n",
       "</style>\n",
       "<table border=\"1\" class=\"dataframe\">\n",
       "  <thead>\n",
       "    <tr style=\"text-align: right;\">\n",
       "      <th></th>\n",
       "      <th>day</th>\n",
       "      <th>outlook</th>\n",
       "      <th>temp</th>\n",
       "      <th>humidity</th>\n",
       "      <th>wind</th>\n",
       "      <th>play</th>\n",
       "    </tr>\n",
       "  </thead>\n",
       "  <tbody>\n",
       "    <tr>\n",
       "      <th>0</th>\n",
       "      <td>D1</td>\n",
       "      <td>Sunny</td>\n",
       "      <td>Hot</td>\n",
       "      <td>High</td>\n",
       "      <td>Weak</td>\n",
       "      <td>No</td>\n",
       "    </tr>\n",
       "    <tr>\n",
       "      <th>1</th>\n",
       "      <td>D2</td>\n",
       "      <td>Sunny</td>\n",
       "      <td>Hot</td>\n",
       "      <td>High</td>\n",
       "      <td>Strong</td>\n",
       "      <td>No</td>\n",
       "    </tr>\n",
       "    <tr>\n",
       "      <th>2</th>\n",
       "      <td>D3</td>\n",
       "      <td>Overcast</td>\n",
       "      <td>Hot</td>\n",
       "      <td>High</td>\n",
       "      <td>Weak</td>\n",
       "      <td>Yes</td>\n",
       "    </tr>\n",
       "    <tr>\n",
       "      <th>3</th>\n",
       "      <td>D4</td>\n",
       "      <td>Rain</td>\n",
       "      <td>Mild</td>\n",
       "      <td>High</td>\n",
       "      <td>Weak</td>\n",
       "      <td>Yes</td>\n",
       "    </tr>\n",
       "    <tr>\n",
       "      <th>4</th>\n",
       "      <td>D5</td>\n",
       "      <td>Rain</td>\n",
       "      <td>Cool</td>\n",
       "      <td>Normal</td>\n",
       "      <td>Weak</td>\n",
       "      <td>Yes</td>\n",
       "    </tr>\n",
       "    <tr>\n",
       "      <th>5</th>\n",
       "      <td>D6</td>\n",
       "      <td>Rain</td>\n",
       "      <td>Cool</td>\n",
       "      <td>Normal</td>\n",
       "      <td>Strong</td>\n",
       "      <td>No</td>\n",
       "    </tr>\n",
       "    <tr>\n",
       "      <th>6</th>\n",
       "      <td>D7</td>\n",
       "      <td>Overcast</td>\n",
       "      <td>Cool</td>\n",
       "      <td>Normal</td>\n",
       "      <td>Strong</td>\n",
       "      <td>Yes</td>\n",
       "    </tr>\n",
       "    <tr>\n",
       "      <th>7</th>\n",
       "      <td>D8</td>\n",
       "      <td>Sunny</td>\n",
       "      <td>Mild</td>\n",
       "      <td>High</td>\n",
       "      <td>Weak</td>\n",
       "      <td>No</td>\n",
       "    </tr>\n",
       "    <tr>\n",
       "      <th>8</th>\n",
       "      <td>D9</td>\n",
       "      <td>Sunny</td>\n",
       "      <td>Cool</td>\n",
       "      <td>Normal</td>\n",
       "      <td>Weak</td>\n",
       "      <td>Yes</td>\n",
       "    </tr>\n",
       "    <tr>\n",
       "      <th>9</th>\n",
       "      <td>D10</td>\n",
       "      <td>Rain</td>\n",
       "      <td>Mild</td>\n",
       "      <td>Normal</td>\n",
       "      <td>Weak</td>\n",
       "      <td>Yes</td>\n",
       "    </tr>\n",
       "    <tr>\n",
       "      <th>10</th>\n",
       "      <td>D11</td>\n",
       "      <td>Sunny</td>\n",
       "      <td>Mild</td>\n",
       "      <td>Normal</td>\n",
       "      <td>Strong</td>\n",
       "      <td>Yes</td>\n",
       "    </tr>\n",
       "    <tr>\n",
       "      <th>11</th>\n",
       "      <td>D12</td>\n",
       "      <td>Overcast</td>\n",
       "      <td>Mild</td>\n",
       "      <td>High</td>\n",
       "      <td>Strong</td>\n",
       "      <td>Yes</td>\n",
       "    </tr>\n",
       "    <tr>\n",
       "      <th>12</th>\n",
       "      <td>D13</td>\n",
       "      <td>Overcast</td>\n",
       "      <td>Hot</td>\n",
       "      <td>Normal</td>\n",
       "      <td>Weak</td>\n",
       "      <td>Yes</td>\n",
       "    </tr>\n",
       "    <tr>\n",
       "      <th>13</th>\n",
       "      <td>D14</td>\n",
       "      <td>Rain</td>\n",
       "      <td>Mild</td>\n",
       "      <td>High</td>\n",
       "      <td>Strong</td>\n",
       "      <td>No</td>\n",
       "    </tr>\n",
       "    <tr>\n",
       "      <th>14</th>\n",
       "      <td>D15</td>\n",
       "      <td>Overcast</td>\n",
       "      <td>Hot</td>\n",
       "      <td>Normal</td>\n",
       "      <td>Weak</td>\n",
       "      <td>No</td>\n",
       "    </tr>\n",
       "  </tbody>\n",
       "</table>\n",
       "</div>"
      ],
      "text/plain": [
       "    day   outlook  temp humidity    wind play\n",
       "0    D1     Sunny   Hot     High    Weak   No\n",
       "1    D2     Sunny   Hot     High  Strong   No\n",
       "2    D3  Overcast   Hot     High    Weak  Yes\n",
       "3    D4      Rain  Mild     High    Weak  Yes\n",
       "4    D5      Rain  Cool   Normal    Weak  Yes\n",
       "5    D6      Rain  Cool   Normal  Strong   No\n",
       "6    D7  Overcast  Cool   Normal  Strong  Yes\n",
       "7    D8     Sunny  Mild     High    Weak   No\n",
       "8    D9     Sunny  Cool   Normal    Weak  Yes\n",
       "9   D10      Rain  Mild   Normal    Weak  Yes\n",
       "10  D11     Sunny  Mild   Normal  Strong  Yes\n",
       "11  D12  Overcast  Mild     High  Strong  Yes\n",
       "12  D13  Overcast   Hot   Normal    Weak  Yes\n",
       "13  D14      Rain  Mild     High  Strong   No\n",
       "14  D15  Overcast   Hot   Normal    Weak   No"
      ]
     },
     "execution_count": 17,
     "metadata": {},
     "output_type": "execute_result"
    }
   ],
   "source": [
    "#your code\n",
    "tennis2= pd.read_csv(\"tennis2.txt\", sep=\"\\t\")\n",
    "#mostrar o tennis2\n",
    "tennis2"
   ]
  },
  {
   "cell_type": "code",
   "execution_count": 18,
   "metadata": {},
   "outputs": [
    {
     "name": "stdout",
     "output_type": "stream",
     "text": [
      " outlook = Overcast\n",
      "\t temp = Cool --> Yes\n",
      "\t temp = Hot\n",
      "\t\t humidity = High --> Yes\n",
      "\t\t humidity = Normal --> No\n",
      "\t temp = Mild --> Yes\n",
      " outlook = Rain\n",
      "\t wind = Strong --> No\n",
      "\t wind = Weak --> Yes\n",
      " outlook = Sunny\n",
      "\t humidity = High --> No\n",
      "\t humidity = Normal --> Yes\n"
     ]
    }
   ],
   "source": [
    "#fazer a árvore e mostrar\n",
    "col_names_2 = np.array(tennis2.columns)[[1,2,3,4]]\n",
    "X2 = tennis2.values[:,(1,2,3,4)]\n",
    "y2 = tennis2.values[:,5]\n",
    "tree2 = decision_tree(X2, y2, col_names_2, [])\n",
    "show_tree(tree2)\n",
    "\n",
    "#overcast passa a ter de ser separado porque a nova linha é a primeira com overcast que não joga"
   ]
  },
  {
   "cell_type": "markdown",
   "metadata": {},
   "source": [
    "## 5. Make predictions\n",
    "\n",
    "The same tree navigation process can now be applied to new situations. However, since this structure is designed to be interpreted and represented rather than being computationally efficient, an intermediate step will be necessary in which each element is transformed into a dictionary and it is this dictionary that is then used to make the prediction."
   ]
  },
  {
   "cell_type": "code",
   "execution_count": 19,
   "metadata": {},
   "outputs": [],
   "source": [
    "def make_prediction(D, tree):\n",
    "    for branch in tree:\n",
    "        if type(branch[1])==str and not isinstance(branch, tuple): \n",
    "            if D[branch[0][0]]== branch[0][1]: return branch[1]\n",
    "        elif type(branch[1])==list:\n",
    "            if D[branch[0][0]]== branch[0][1]: \n",
    "                return make_prediction(D, branch)\n",
    "            \n",
    "def predict(data, cnames, tree):\n",
    "    preds=[]\n",
    "    for elem in data:\n",
    "        D={col: elem[i] for i, col in enumerate(cnames)}\n",
    "        preds.append(make_prediction(D, tree))\n",
    "        \n",
    "    return preds\n",
    "                                               "
   ]
  },
  {
   "cell_type": "code",
   "execution_count": 20,
   "metadata": {},
   "outputs": [
    {
     "data": {
      "text/html": [
       "<div>\n",
       "<style scoped>\n",
       "    .dataframe tbody tr th:only-of-type {\n",
       "        vertical-align: middle;\n",
       "    }\n",
       "\n",
       "    .dataframe tbody tr th {\n",
       "        vertical-align: top;\n",
       "    }\n",
       "\n",
       "    .dataframe thead th {\n",
       "        text-align: right;\n",
       "    }\n",
       "</style>\n",
       "<table border=\"1\" class=\"dataframe\">\n",
       "  <thead>\n",
       "    <tr style=\"text-align: right;\">\n",
       "      <th></th>\n",
       "      <th>outlook</th>\n",
       "      <th>temp</th>\n",
       "      <th>humidity</th>\n",
       "      <th>wind</th>\n",
       "    </tr>\n",
       "  </thead>\n",
       "  <tbody>\n",
       "    <tr>\n",
       "      <th>0</th>\n",
       "      <td>Sunny</td>\n",
       "      <td>Cool</td>\n",
       "      <td>Normal</td>\n",
       "      <td>Strong</td>\n",
       "    </tr>\n",
       "    <tr>\n",
       "      <th>1</th>\n",
       "      <td>Sunny</td>\n",
       "      <td>Hot</td>\n",
       "      <td>High</td>\n",
       "      <td>Weak</td>\n",
       "    </tr>\n",
       "    <tr>\n",
       "      <th>2</th>\n",
       "      <td>Overcast</td>\n",
       "      <td>Hot</td>\n",
       "      <td>High</td>\n",
       "      <td>Weak</td>\n",
       "    </tr>\n",
       "  </tbody>\n",
       "</table>\n",
       "</div>"
      ],
      "text/plain": [
       "    outlook  temp humidity    wind\n",
       "0     Sunny  Cool   Normal  Strong\n",
       "1     Sunny   Hot     High    Weak\n",
       "2  Overcast   Hot     High    Weak"
      ]
     },
     "execution_count": 20,
     "metadata": {},
     "output_type": "execute_result"
    }
   ],
   "source": [
    "Xtest=np.array([['Sunny', 'Cool', 'Normal', 'Strong'],\n",
    "                ['Sunny', 'Hot', 'High', 'Weak'],\n",
    "                ['Overcast', 'Hot', 'High', 'Weak']])\n",
    "df_test=pd.DataFrame(Xtest,columns=col_names)\n",
    "df_test"
   ]
  },
  {
   "cell_type": "code",
   "execution_count": 21,
   "metadata": {},
   "outputs": [
    {
     "name": "stdout",
     "output_type": "stream",
     "text": [
      "['Sunny' 'Cool' 'Normal' 'Strong'] --> Yes\n",
      "['Sunny' 'Hot' 'High' 'Weak'] --> No\n",
      "['Overcast' 'Hot' 'High' 'Weak'] --> Yes\n"
     ]
    }
   ],
   "source": [
    "preds=predict(Xtest, col_names, tree)\n",
    "\n",
    "for i in range(Xtest.shape[0]):\n",
    "    print(Xtest[i,:], \"-->\", preds[i])"
   ]
  },
  {
   "cell_type": "markdown",
   "metadata": {},
   "source": [
    "## 6. Make a Class\n",
    "\n",
    "We can take all the methods and, with minimal adaptations, make a class whose interface will only have 3 methods:\n",
    "\n",
    "* `fit(X, y, [col_names])` - This method creates a new tree, using an X matrix and a y vector. If the column name (col_names) does not exist, it is filled with the column index of the matrix X\n",
    "* `display()` - represents in text the various branches of the tree\n",
    "* `predict(X)` - for an equivalent data array predicts according to the model"
   ]
  },
  {
   "cell_type": "code",
   "execution_count": 22,
   "metadata": {},
   "outputs": [],
   "source": [
    "class SI_DecisionTree():\n",
    "    def __init__(self):\n",
    "        \n",
    "        self.tree=None\n",
    "        \n",
    "    def select_var(self, X, y):\n",
    "        N,M = X.shape\n",
    "        min_ent=1e34\n",
    "        best_var=-1\n",
    "        for v in range(M):\n",
    "            ent=0\n",
    "            for val in np.unique(X[:,v]):\n",
    "                srows = X[:,v] == val\n",
    "                ent+=np.sum(srows)/N*entropy(y[srows])\n",
    "            if ent<min_ent:\n",
    "                min_ent=ent\n",
    "                best_var=v\n",
    "        return best_var\n",
    "    \n",
    "    def decision_tree(self, X, y, col_names, the_path):\n",
    "        sv=self.select_var(X, y)\n",
    "        N,M=X.shape\n",
    "        if M==1:\n",
    "            if len(np.unique(y))==1:\n",
    "                the_path.append(str(y[0]))\n",
    "            else:\n",
    "                #isto acontece quando o nó não é puro!\n",
    "                #devolve o valor mais comum (em caso de empate devolve o primeiro que encontra)\n",
    "                values, counts = np.unique(y,return_counts=True)\n",
    "                the_path.append(str(values[counts.argmax()]))\n",
    "        else:\n",
    "            X0=np.delete(X, sv, 1)\n",
    "            cnames=np.delete(col_names,sv)\n",
    "            for val in np.unique(X[:,sv]):\n",
    "                srows = X[:,sv]==val\n",
    "                X_new=X0[srows, :]\n",
    "                y_new=y[srows]\n",
    "                the_path.append([(col_names[sv], val)])\n",
    "                if len(np.unique(y_new))>1:\n",
    "                    self.decision_tree(X_new, y_new, cnames, the_path[-1] )\n",
    "                else:\n",
    "                    the_path[-1].append(str(y_new[0]))\n",
    "        return the_path\n",
    "    \n",
    "    def show_tree(self, tr, level=0):\n",
    "        for branch in tr:\n",
    "            if type(branch[1])==str and not isinstance(branch, tuple):\n",
    "                print(\"\\t\"*(level), \"%s = %s --> %s\" % (branch[0][0], branch[0][1], branch[1]))\n",
    "            elif type(branch[1])==list:\n",
    "                print(\"\\t\"*level,  \"%s = %s\" % (branch[0][0], branch[0][1]))\n",
    "                self.show_tree(branch, level+1)\n",
    "\n",
    "    def make_prediction(self, D, tree):\n",
    "        for branch in tree:\n",
    "            if type(branch[1])==str and not isinstance(branch, tuple): \n",
    "                if D[branch[0][0]]== branch[0][1]: return branch[1]\n",
    "            elif type(branch[1])==list:\n",
    "                if D[branch[0][0]]== branch[0][1]: \n",
    "                    return self.make_prediction(D, branch)\n",
    "    \n",
    "    def display(self):\n",
    "        if self.tree is None: \n",
    "            print(\"A árvore nãoe está treinada\")\n",
    "            return\n",
    "        self.show_tree(self.tree)\n",
    "\n",
    "    def fit(self, X, y, col_names=None):\n",
    "        N,M=X.shape\n",
    "        if col_names is None: col_names=list(range(M))\n",
    "        self.col_names=col_names[:]\n",
    "        self.tree = self.decision_tree(X, y, col_names, [])\n",
    "        return self\n",
    "\n",
    "    def predict(self, data):\n",
    "        preds=[]\n",
    "        for elem in data:\n",
    "            D={col: elem[i] for i, col in enumerate(self.col_names)}\n",
    "            preds.append(self.make_prediction(D, self.tree))\n",
    "\n",
    "        return preds\n",
    "                                               "
   ]
  },
  {
   "cell_type": "markdown",
   "metadata": {},
   "source": [
    "The interface is extremely simple to use, just creating a SI_DecisionTree object, which can then be used as needed."
   ]
  },
  {
   "cell_type": "code",
   "execution_count": 23,
   "metadata": {},
   "outputs": [
    {
     "name": "stdout",
     "output_type": "stream",
     "text": [
      " outlook = Overcast --> Yes\n",
      " outlook = Rain\n",
      "\t wind = Strong --> No\n",
      "\t wind = Weak --> Yes\n",
      " outlook = Sunny\n",
      "\t humidity = High --> No\n",
      "\t humidity = Normal --> Yes\n"
     ]
    }
   ],
   "source": [
    "dt=SI_DecisionTree()\n",
    "dt.fit(X, y, col_names)\n",
    "dt.display()"
   ]
  },
  {
   "cell_type": "markdown",
   "metadata": {},
   "source": [
    "Making predictions is just as easy, just call the `predict()` method"
   ]
  },
  {
   "cell_type": "code",
   "execution_count": 24,
   "metadata": {},
   "outputs": [
    {
     "name": "stdout",
     "output_type": "stream",
     "text": [
      "['Sunny' 'Cool' 'Normal' 'Strong'] --> Yes\n",
      "['Sunny' 'Hot' 'High' 'Weak'] --> No\n",
      "['Overcast' 'Hot' 'High' 'Weak'] --> Yes\n"
     ]
    }
   ],
   "source": [
    "preds=dt.predict(Xtest)\n",
    "for i, pred in enumerate(preds):\n",
    "    print(Xtest[i,:], \"-->\", pred)"
   ]
  },
  {
   "cell_type": "markdown",
   "metadata": {},
   "source": [
    "## 7. A bigger example - the Iris data\n",
    "\n",
    "The iris data is a very famous dataset with 150 flowers of 3 species (setosa, versicolor and virginica), for which the width and length of the petals and sepals were measured. Although the dataset is numerical it can be easily discretized to run in a decision tree. The criteria that we will use to discretize the columns is the division into quantiles of 33 and 66:\n",
    "\n",
    "* the smallest third (column values ​​smaller than Q33) are labeled with the value \"Small\"\n",
    "* the middle third (column values ​​between Q33 and Q67) are labeled \"Medium\"\n",
    "* the largest third (column values ​​greater than Q67) are labeled \"Large\"\n",
    "\n",
    "Note that the dataset is loaded from the scikit-learn library which must be installed.\n",
    "\n",
    "**NOTE**: The ID3 algorithm runs on continuous data, requiring only an adaptation in the way entropy is calculated, and the algorithm returns not only the entropy value, but also the cutoff value (*split_point*) in the variable that minimizes entropy. Our implementation, however, was only designed to work with quantitative data."
   ]
  },
  {
   "cell_type": "code",
   "execution_count": 25,
   "metadata": {},
   "outputs": [
    {
     "data": {
      "text/html": [
       "<div>\n",
       "<style scoped>\n",
       "    .dataframe tbody tr th:only-of-type {\n",
       "        vertical-align: middle;\n",
       "    }\n",
       "\n",
       "    .dataframe tbody tr th {\n",
       "        vertical-align: top;\n",
       "    }\n",
       "\n",
       "    .dataframe thead th {\n",
       "        text-align: right;\n",
       "    }\n",
       "</style>\n",
       "<table border=\"1\" class=\"dataframe\">\n",
       "  <thead>\n",
       "    <tr style=\"text-align: right;\">\n",
       "      <th></th>\n",
       "      <th>sepal length (cm)</th>\n",
       "      <th>sepal width (cm)</th>\n",
       "      <th>petal length (cm)</th>\n",
       "      <th>petal width (cm)</th>\n",
       "    </tr>\n",
       "  </thead>\n",
       "  <tbody>\n",
       "    <tr>\n",
       "      <th>0</th>\n",
       "      <td>Small</td>\n",
       "      <td>Large</td>\n",
       "      <td>Small</td>\n",
       "      <td>Small</td>\n",
       "    </tr>\n",
       "    <tr>\n",
       "      <th>1</th>\n",
       "      <td>Small</td>\n",
       "      <td>Medium</td>\n",
       "      <td>Small</td>\n",
       "      <td>Small</td>\n",
       "    </tr>\n",
       "    <tr>\n",
       "      <th>2</th>\n",
       "      <td>Small</td>\n",
       "      <td>Medium</td>\n",
       "      <td>Small</td>\n",
       "      <td>Small</td>\n",
       "    </tr>\n",
       "    <tr>\n",
       "      <th>3</th>\n",
       "      <td>Small</td>\n",
       "      <td>Medium</td>\n",
       "      <td>Small</td>\n",
       "      <td>Small</td>\n",
       "    </tr>\n",
       "    <tr>\n",
       "      <th>4</th>\n",
       "      <td>Small</td>\n",
       "      <td>Large</td>\n",
       "      <td>Small</td>\n",
       "      <td>Small</td>\n",
       "    </tr>\n",
       "    <tr>\n",
       "      <th>...</th>\n",
       "      <td>...</td>\n",
       "      <td>...</td>\n",
       "      <td>...</td>\n",
       "      <td>...</td>\n",
       "    </tr>\n",
       "    <tr>\n",
       "      <th>145</th>\n",
       "      <td>Large</td>\n",
       "      <td>Medium</td>\n",
       "      <td>Large</td>\n",
       "      <td>Large</td>\n",
       "    </tr>\n",
       "    <tr>\n",
       "      <th>146</th>\n",
       "      <td>Medium</td>\n",
       "      <td>Small</td>\n",
       "      <td>Large</td>\n",
       "      <td>Large</td>\n",
       "    </tr>\n",
       "    <tr>\n",
       "      <th>147</th>\n",
       "      <td>Large</td>\n",
       "      <td>Medium</td>\n",
       "      <td>Large</td>\n",
       "      <td>Large</td>\n",
       "    </tr>\n",
       "    <tr>\n",
       "      <th>148</th>\n",
       "      <td>Medium</td>\n",
       "      <td>Large</td>\n",
       "      <td>Large</td>\n",
       "      <td>Large</td>\n",
       "    </tr>\n",
       "    <tr>\n",
       "      <th>149</th>\n",
       "      <td>Medium</td>\n",
       "      <td>Medium</td>\n",
       "      <td>Large</td>\n",
       "      <td>Large</td>\n",
       "    </tr>\n",
       "  </tbody>\n",
       "</table>\n",
       "<p>150 rows × 4 columns</p>\n",
       "</div>"
      ],
      "text/plain": [
       "    sepal length (cm) sepal width (cm) petal length (cm) petal width (cm)\n",
       "0               Small            Large             Small            Small\n",
       "1               Small           Medium             Small            Small\n",
       "2               Small           Medium             Small            Small\n",
       "3               Small           Medium             Small            Small\n",
       "4               Small            Large             Small            Small\n",
       "..                ...              ...               ...              ...\n",
       "145             Large           Medium             Large            Large\n",
       "146            Medium            Small             Large            Large\n",
       "147             Large           Medium             Large            Large\n",
       "148            Medium            Large             Large            Large\n",
       "149            Medium           Medium             Large            Large\n",
       "\n",
       "[150 rows x 4 columns]"
      ]
     },
     "execution_count": 25,
     "metadata": {},
     "output_type": "execute_result"
    }
   ],
   "source": [
    "from sklearn.datasets import load_iris\n",
    "\n",
    "data=load_iris()\n",
    "cnames=data.feature_names\n",
    "X0=data.data\n",
    "y0=data.target\n",
    "vnames=data.target_names\n",
    "y=vnames[y0]\n",
    "X=np.empty(X0.shape,dtype=\"object\")\n",
    "X[:,:]=\"Medium\"\n",
    "for i,cname in enumerate(cnames):\n",
    "    q33, q67=np.quantile(X0[:,i], (0.33, 0.67))\n",
    "    X[X0[:,i]<q33, i]=\"Small\"\n",
    "    X[X0[:,i]>q67, i]=\"Large\"\n",
    "\n",
    "pd.DataFrame(X, columns=cnames)"
   ]
  },
  {
   "cell_type": "markdown",
   "metadata": {},
   "source": [
    "### Exercise 4\n",
    "\n",
    "Create a decision tree with this data, print it and verify that the predictions on this same data are consistent."
   ]
  },
  {
   "cell_type": "code",
   "execution_count": 26,
   "metadata": {},
   "outputs": [
    {
     "name": "stdout",
     "output_type": "stream",
     "text": [
      " petal width (cm) = Large\n",
      "\t sepal width (cm) = Large --> virginica\n",
      "\t sepal width (cm) = Medium\n",
      "\t\t petal length (cm) = Large --> virginica\n",
      "\t\t petal length (cm) = Medium --> virginica\n",
      "\t sepal width (cm) = Small --> virginica\n",
      " petal width (cm) = Medium\n",
      "\t petal length (cm) = Large\n",
      "\t\t sepal length (cm) = Large --> virginica\n",
      "\t\t sepal length (cm) = Medium --> virginica\n",
      "\t petal length (cm) = Medium --> versicolor\n",
      " petal width (cm) = Small --> setosa\n",
      "['Small' 'Large' 'Large' 'Medium'] --> None\n",
      "['Medium' 'Large' 'Small' 'Small'] --> setosa\n",
      "['Large' 'Small' 'Small' 'Small'] --> setosa\n",
      "['Large' 'Medium' 'Large' 'Medium'] --> virginica\n"
     ]
    }
   ],
   "source": [
    "dt.fit(X, y, cnames)\n",
    "dt.display()\n",
    "\n",
    "test = np.array([['Small', 'Large', 'Large', 'Medium'],\n",
    "                 ['Medium', 'Large', 'Small', 'Small'],\n",
    "                 ['Large', 'Small', 'Small', 'Small'],\n",
    "                 ['Large', 'Medium', 'Large', 'Medium']])\n",
    "\n",
    "preds = dt.predict(test)\n",
    "\n",
    "for i in range(test.shape[0]):\n",
    "    print(test[i,:], \"-->\", preds[i])"
   ]
  },
  {
   "cell_type": "markdown",
   "metadata": {},
   "source": [
    "### Exerecise 5\n",
    "\n",
    "From the 150 lines, choose 80% at random that you will use to train the tree. The remaining 20% will be used to see if the model created can make predictions with data never tested in the model."
   ]
  },
  {
   "cell_type": "code",
   "execution_count": 28,
   "metadata": {},
   "outputs": [
    {
     "name": "stdout",
     "output_type": "stream",
     "text": [
      " petal width (cm) = Large\n",
      "\t sepal width (cm) = Large --> virginica\n",
      "\t sepal width (cm) = Medium\n",
      "\t\t petal length (cm) = Large --> virginica\n",
      "\t\t petal length (cm) = Medium --> virginica\n",
      "\t sepal width (cm) = Small --> virginica\n",
      " petal width (cm) = Medium\n",
      "\t petal length (cm) = Large\n",
      "\t\t sepal length (cm) = Large --> virginica\n",
      "\t\t sepal length (cm) = Medium --> virginica\n",
      "\t petal length (cm) = Medium --> versicolor\n",
      " petal width (cm) = Small --> setosa\n",
      "['Small' 'Medium' 'Small' 'Small'] --> setosa\n",
      "['Medium' 'Large' 'Small' 'Small'] --> setosa\n",
      "['Medium' 'Small' 'Large' 'Medium'] --> virginica\n",
      "['Medium' 'Large' 'Large' 'Large'] --> virginica\n",
      "['Small' 'Medium' 'Small' 'Small'] --> setosa\n",
      "['Small' 'Large' 'Small' 'Small'] --> setosa\n",
      "['Large' 'Large' 'Large' 'Large'] --> virginica\n",
      "['Medium' 'Large' 'Small' 'Small'] --> setosa\n",
      "['Small' 'Large' 'Small' 'Small'] --> setosa\n",
      "['Small' 'Large' 'Small' 'Small'] --> setosa\n",
      "['Small' 'Large' 'Small' 'Small'] --> setosa\n",
      "['Large' 'Medium' 'Medium' 'Medium'] --> versicolor\n",
      "['Large' 'Medium' 'Medium' 'Medium'] --> versicolor\n",
      "['Medium' 'Small' 'Medium' 'Medium'] --> versicolor\n",
      "['Large' 'Medium' 'Medium' 'Medium'] --> versicolor\n",
      "['Small' 'Small' 'Medium' 'Medium'] --> versicolor\n",
      "['Medium' 'Medium' 'Medium' 'Medium'] --> versicolor\n",
      "['Medium' 'Medium' 'Medium' 'Medium'] --> versicolor\n",
      "['Large' 'Medium' 'Medium' 'Medium'] --> versicolor\n",
      "['Medium' 'Medium' 'Medium' 'Medium'] --> versicolor\n",
      "['Medium' 'Small' 'Large' 'Medium'] --> virginica\n",
      "['Medium' 'Small' 'Medium' 'Medium'] --> versicolor\n",
      "['Medium' 'Medium' 'Medium' 'Medium'] --> versicolor\n",
      "['Large' 'Medium' 'Large' 'Large'] --> virginica\n",
      "['Small' 'Small' 'Medium' 'Large'] --> virginica\n",
      "['Large' 'Medium' 'Large' 'Large'] --> virginica\n",
      "['Large' 'Medium' 'Large' 'Large'] --> virginica\n",
      "['Large' 'Medium' 'Large' 'Large'] --> virginica\n",
      "['Large' 'Small' 'Large' 'Large'] --> virginica\n",
      "['Medium' 'Small' 'Medium' 'Large'] --> virginica\n"
     ]
    }
   ],
   "source": [
    "#solução parcial\n",
    "from random import sample\n",
    "N, M = X.shape\n",
    "rows_train=sample(range(N), k=int(N*.8))\n",
    "rows_test=list(set(range(N))-set(rows_train))\n",
    "\n",
    "#continuar a partir daqui\n",
    "\n",
    "dt2 = SI_DecisionTree()\n",
    "\n",
    "train = X[rows_train, :]\n",
    "dt2.fit(X, y, cnames)\n",
    "dt2.display()\n",
    "\n",
    "test = X[rows_test, :]\n",
    "predictions = dt2.predict(test)\n",
    "\n",
    "for i in range(test.shape[0]):\n",
    "    print(test[i,:], \"-->\", predictions[i])\n"
   ]
  },
  {
   "cell_type": "code",
   "execution_count": null,
   "metadata": {},
   "outputs": [],
   "source": [
    "#mostrar as previsões e o número de mpas previsões\n"
   ]
  },
  {
   "cell_type": "markdown",
   "metadata": {
    "tags": []
   },
   "source": [
    "\n",
    "\n",
    "## 8. Fitting Decision Trees with Scikit-learn\n",
    "\n",
    "[Decison trees are obviously implemented in Skikit Learn](https://scikit-learn.org/stable/modules/classes.html#module-sklearn.tree) and the exact same rules apply for use as in other models\n",
    "\n",
    "Let's try out a multiclass classifier with the iris"
   ]
  },
  {
   "cell_type": "code",
   "execution_count": null,
   "metadata": {},
   "outputs": [],
   "source": [
    "from sklearn.datasets import load_iris\n",
    "from sklearn.model_selection import train_test_split\n",
    "iris = load_iris()\n",
    "X, y = iris.data, iris.target\n",
    "\n",
    "X_train, X_test, y_train, y_test = train_test_split( X, y, test_size=0.33, random_state=123)\n",
    "\n"
   ]
  },
  {
   "cell_type": "markdown",
   "metadata": {},
   "source": [
    "### 8.1 Fitting a multiclass model\n",
    "\n",
    "Usual drill for sklearn"
   ]
  },
  {
   "cell_type": "code",
   "execution_count": null,
   "metadata": {},
   "outputs": [],
   "source": [
    "from sklearn import tree\n",
    "dt = tree.DecisionTreeClassifier()\n",
    "dt = dt.fit(X_train , y_train)"
   ]
  },
  {
   "cell_type": "markdown",
   "metadata": {},
   "source": [
    "Decision Trees are inherently expalinable, especially the simpler models. We can look at the derived tree very simply"
   ]
  },
  {
   "cell_type": "code",
   "execution_count": null,
   "metadata": {},
   "outputs": [],
   "source": [
    "import matplotlib.pyplot as plt\n",
    "plt.figure(figsize=(15,15))\n",
    "r=tree.plot_tree(dt, filled=True, feature_names=iris.feature_names)\n",
    "plt.show()"
   ]
  },
  {
   "cell_type": "markdown",
   "metadata": {},
   "source": [
    "#### Exercises\n",
    "1. check how a new instance with `x = [5.6, 3.0, 4.1, 1.3]` would classify. Follow the tree from the root to the leaves\n",
    "2. Change the Tree from Using Gini to using Entropy as a criterion, and check how the tree changes \n",
    "3. Change the Tree setting min_samples_leaf=7 and check how the tree changes\n"
   ]
  },
  {
   "cell_type": "code",
   "execution_count": null,
   "metadata": {},
   "outputs": [],
   "source": [
    "#your code here"
   ]
  },
  {
   "cell_type": "markdown",
   "metadata": {},
   "source": [
    "To evaluate this multiclass classifier we can use the classification report and the confusion matrix."
   ]
  },
  {
   "cell_type": "code",
   "execution_count": null,
   "metadata": {},
   "outputs": [],
   "source": [
    "import pandas as pd\n",
    "from sklearn.metrics import f1_score, classification_report, confusion_matrix, matthews_corrcoef\n",
    "preds= dt.predict(X_test)\n",
    "\n",
    "print(classification_report(y_test, preds))\n",
    "pd.DataFrame(confusion_matrix(y_test, preds))\n"
   ]
  },
  {
   "cell_type": "markdown",
   "metadata": {},
   "source": [
    "## 9 Decision Trees for regression (Extra - not evaluated - to be done in class if time allows)\n",
    "\n",
    "We will use the diabetes dataset"
   ]
  },
  {
   "cell_type": "code",
   "execution_count": null,
   "metadata": {},
   "outputs": [],
   "source": [
    "from sklearn.metrics import mean_squared_error, explained_variance_score\n",
    "from sklearn.model_selection import train_test_split\n",
    "from sklearn.datasets import load_diabetes\n",
    "from sklearn import tree\n",
    "import matplotlib.pyplot as plt\n",
    "import numpy as np\n",
    "\n",
    "X_diabetes, y_diabetes=load_diabetes(return_X_y=True)\n",
    "\n",
    "X_train, X_test, y_train, y_test = train_test_split(X_diabetes, y_diabetes, test_size=0.2)#, random_state=22)\n",
    "\n",
    "rt = tree.DecisionTreeRegressor()\n",
    "rt.fit(X_train, y_train)\n",
    "preds=rt.predict(X_test)\n",
    "\n",
    "plt.figure(figsize=(5,5))\n",
    "plt.scatter(preds, y_test)\n",
    "plt.plot((0, 350), (0,350), c=\"r\")\n",
    "plt.grid()\n",
    "plt.show()\n",
    "\n",
    "#print(\"RVE: %7.4f\"  % explained_variance_score(y_test, preds))\n",
    "#print(\"rmse: %7.4f\" % mean_squared_error(y_test, preds, squared=False))\n"
   ]
  },
  {
   "cell_type": "markdown",
   "metadata": {},
   "source": [
    "#### Exercises\n",
    "\n",
    "1. Comment the results above. How would you explain these values, and what should you do to correct them?\n",
    "2. Compare the times spent in training the regression Tree and the classification tree. Comment the results\n",
    "3. Verify the impact that min_samples_leaf has on the regression scores using simple cross validation\n",
    "4. Make a plot showing how the rmse changes as min_samples_leaf ranges from 1 to 30\n",
    "5. examine graphically the best tree identified and comment your results\n"
   ]
  },
  {
   "cell_type": "code",
   "execution_count": null,
   "metadata": {},
   "outputs": [],
   "source": [
    "#Exercise 2 solution\n",
    "X_train, X_test, y_train, y_test = train_test_split(X_diabetes, y_diabetes, test_size=0.2)#, random_state=22)\n",
    "rt = tree.DecisionTreeRegressor()\n",
    "%timeit rt.fit(X_train, y_train)\n",
    "X_train, X_test, y_train, y_test = train_test_split(X_diabetes, yc_diabetes, test_size=0.2)#, random_state=22)\n",
    "ct = tree.DecisionTreeClassifier()\n",
    "%timeit ct.fit(X_train, y_train)"
   ]
  },
  {
   "cell_type": "code",
   "execution_count": null,
   "metadata": {},
   "outputs": [],
   "source": [
    "#Exercise 4. Solution\n",
    "rmses=[]\n",
    "for i in range(1,41):\n",
    "    rt = tree.DecisionTreeRegressor(min_samples_leaf=i)\n",
    "    rt.fit(X_train, y_train)\n",
    "    preds=rt.predict(X_test)\n",
    "    rmses.append( mean_squared_error(y_test, preds, squared=False))\n",
    "\n",
    "plt.plot(range(1,41), rmses)\n",
    "plt.show()"
   ]
  },
  {
   "cell_type": "code",
   "execution_count": null,
   "metadata": {},
   "outputs": [],
   "source": [
    "#exercisise 5. solution\n",
    "plt.figure(figsize=(10,10))\n",
    "r=tree.plot_tree(rt, filled=True)\n",
    "plt.show()"
   ]
  }
 ],
 "metadata": {
  "kernelspec": {
   "display_name": "Python 3 (ipykernel)",
   "language": "python",
   "name": "python3"
  },
  "language_info": {
   "codemirror_mode": {
    "name": "ipython",
    "version": 3
   },
   "file_extension": ".py",
   "mimetype": "text/x-python",
   "name": "python",
   "nbconvert_exporter": "python",
   "pygments_lexer": "ipython3",
   "version": "3.8.10"
  },
  "vscode": {
   "interpreter": {
    "hash": "31f2aee4e71d21fbe5cf8b01ff0e069b9275f58929596ceb00d14d90e3e16cd6"
   }
  }
 },
 "nbformat": 4,
 "nbformat_minor": 4
}
