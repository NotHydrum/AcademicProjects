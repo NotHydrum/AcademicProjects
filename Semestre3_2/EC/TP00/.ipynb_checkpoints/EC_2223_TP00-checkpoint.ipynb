{
 "cells": [
  {
   "cell_type": "markdown",
   "metadata": {},
   "source": [
    "# Machine Learning 2022/2023\n",
    "\n",
    "## Sara C. Madeira and Andre Falcao, 2020-2022\n",
    "\n",
    "# Lab 00 - Python 3 in a Nutshell"
   ]
  },
  {
   "cell_type": "markdown",
   "metadata": {},
   "source": [
    "## 0. Getting Started\n",
    "\n",
    "In this crash tutorial on Python 3 we use [Python 3](https://www.python.org) and [Jupyter Notebook](http://jupyter.org). \n",
    "\n",
    "**In the lab** both Python 3 and Jupyter should be installed in Windows and Linux. \n",
    "\n",
    "**At home** you can get both by installing [Anaconda](https://www.anaconda.com). Anaconda also installs [scykit-learn](http://scikit-learn.org/stable/) widely used in the course and that will be introduced in the next practical session.\n",
    "\n",
    "Please note **this is not a course on Python 3**. If you are completely new to the language please follow a tutorial online. Here we followed the following online resources:\n",
    "\n",
    "* [Python 3 Tutorial at Python Course](https://www.python-course.eu/python3_course.php)\n",
    "\n",
    "* [The Python Tutorial at Python.org](https://docs.python.org/3.5/tutorial/index.html) \n",
    "\n",
    "* [The Python Language Reference at Python.org](https://docs.python.org/3.5/reference/index.html#reference-index)\n",
    "\n",
    "and some ideas and examples from the introdutory chapters in the following books:\n",
    "\n",
    "* [The Data Science Handbook, F. Cady, Wiley, 2017](http://eu.wiley.com/WileyCDA/WileyTitle/productCd-1119092949.html)\n",
    "\n",
    "* [Data Science from Scratch: First Principles with Python, Joel Grus, O'Reilly, 2015](http://shop.oreilly.com/product/0636920033400.do)\n",
    "\n",
    "You can **start by** reading a bit about [\"The Origins of Python and the Zen of Python\"](https://www.python-course.eu/python3_history_and_philosophy.php).\n",
    "\n",
    "**If you already coded in Python 2** please read [\"Python 2.x is legacy, Python 3.x is the present and future of the language\"](https://wiki.python.org/moin/Python2orPython3) and [what's new in Python 3](https://docs.python.org/3/whatsnew/3.0.html). You will realise you can also code you Python 3 without great changes.\n",
    "\n",
    "**If you are new to Python read about the [Python Interactive Shell](https://www.python-course.eu/python3_interactive.php), [Python scripts](https://www.python-course.eu/python3_execute_script.php) and [indentation](https://www.python-course.eu/python3_blocks.php)**.\n",
    "\n",
    "### Tutorial - How To \n",
    "\n",
    "You can follow this tutorial in several ways:\n",
    "\n",
    "* run the examples interactively by executing the Jupyter notebook (file AA_201718_TP01.ipynb) using Jupyter\n",
    "* try the examples using the Python shell in the command line of your computer\n",
    "* try the examples using an IDE such as Spyder that is installed with Anaconda\n",
    "* try the examples using the [online console at python.org](https://www.python.org/shell/).\n",
    "\n",
    "[Python Tutor](http://www.pythontutor.com) is also an interesting tool to run code and visualize what happens in memory while your code runs. "
   ]
  },
  {
   "cell_type": "markdown",
   "metadata": {},
   "source": [
    "# Python 3 - The Basics\n",
    "\n",
    "## 1. Input and Output\n",
    "\n",
    "Input and output are basics in any programing language and Python makes them simple. You can read more on input from keyboard [here](https://www.python-course.eu/python3_input.php), output with print [here](https://www.python-course.eu/python3_print.php) and formated output [here](https://www.python-course.eu/python3_formatted_output.php). \n",
    "\n",
    "### \"Hello World!\" "
   ]
  },
  {
   "cell_type": "code",
   "execution_count": null,
   "metadata": {},
   "outputs": [],
   "source": [
    "#Write to standard output\n",
    "print (\"Hello World!\")\n",
    "print (\"another thing\")"
   ]
  },
  {
   "cell_type": "code",
   "execution_count": null,
   "metadata": {
    "scrolled": true
   },
   "outputs": [],
   "source": [
    "#Read from standard input\n",
    "name = input(\"Hi ! What's your name? \")\n",
    "#Write to standard output\n",
    "print(\"Welcome to Machine Learning\", name)"
   ]
  },
  {
   "cell_type": "markdown",
   "metadata": {},
   "source": [
    "## 2. Data Types and Variables\n",
    "\n",
    "There is **no declaration of variables** in Python. If you need a variable, you think of a name and start using it as a variable. In Python not only the value of a variable may change during program execution but the type as well. You can read more on this [here](https://www.python-course.eu/python3_variables.php).\n",
    "\n",
    "Python has **several built-in types**, that is, standard types that are built into the interpreter: numerics, sequences, mappings, classes, instances and exceptions. The programmer can then define other types. You can read more on built-in types [here](https://docs.python.org/3/library/stdtypes.html#boolean-operations-and-or-not). This tutorial covers basics on the following, largely used, types:\n",
    "\n",
    "* **Simple Data Types**\n",
    "    * Numeric Types: int, float\n",
    "    * Logic Type: bool\n",
    "    \n",
    "    \n",
    "* **Compound Data Types** \n",
    "    * Sequence Types \n",
    "        * String \n",
    "        * Tuple \n",
    "        * List \n",
    "    * Mapping Types\n",
    "        * Dictionary \n",
    "        * Set "
   ]
  },
  {
   "cell_type": "markdown",
   "metadata": {},
   "source": [
    "### Integers, Floats and Booleans"
   ]
  },
  {
   "cell_type": "code",
   "execution_count": null,
   "metadata": {},
   "outputs": [],
   "source": [
    "# playing with int\n",
    "i = 102\n",
    "i"
   ]
  },
  {
   "cell_type": "code",
   "execution_count": null,
   "metadata": {},
   "outputs": [],
   "source": [
    "type(i)"
   ]
  },
  {
   "cell_type": "code",
   "execution_count": null,
   "metadata": {},
   "outputs": [],
   "source": [
    "# playing with int\n",
    "x = i + 10\n",
    "x"
   ]
  },
  {
   "cell_type": "code",
   "execution_count": null,
   "metadata": {},
   "outputs": [],
   "source": [
    "j = 20.5\n",
    "type(j)"
   ]
  },
  {
   "cell_type": "code",
   "execution_count": null,
   "metadata": {},
   "outputs": [],
   "source": [
    "#playing with float\n",
    "y = j + 10\n",
    "\n",
    "#playing with int and float\n",
    "z = x + y\n",
    "print (x, \"+\", y, \"=\", z)"
   ]
  },
  {
   "cell_type": "code",
   "execution_count": null,
   "metadata": {},
   "outputs": [],
   "source": [
    "# printing with formatted strings\n",
    "print(\"{} + {} = {}\".format(x,y,z))"
   ]
  },
  {
   "cell_type": "code",
   "execution_count": null,
   "metadata": {},
   "outputs": [],
   "source": [
    "# True and False are bool values\n",
    "True"
   ]
  },
  {
   "cell_type": "code",
   "execution_count": null,
   "metadata": {},
   "outputs": [],
   "source": [
    "v = True\n",
    "type(v)"
   ]
  },
  {
   "cell_type": "code",
   "execution_count": null,
   "metadata": {},
   "outputs": [],
   "source": [
    "# playing with bol \n",
    "f = False\n",
    "not v"
   ]
  },
  {
   "cell_type": "code",
   "execution_count": null,
   "metadata": {},
   "outputs": [],
   "source": [
    "v and f"
   ]
  },
  {
   "cell_type": "code",
   "execution_count": null,
   "metadata": {},
   "outputs": [],
   "source": [
    "v or f"
   ]
  },
  {
   "cell_type": "code",
   "execution_count": null,
   "metadata": {},
   "outputs": [],
   "source": [
    "not True or False and v"
   ]
  },
  {
   "cell_type": "code",
   "execution_count": null,
   "metadata": {},
   "outputs": [],
   "source": [
    "not 0 < 10 and 0 > 10"
   ]
  },
  {
   "cell_type": "code",
   "execution_count": null,
   "metadata": {},
   "outputs": [],
   "source": [
    "#never forget precedences\n",
    "not (0 < 10 and 0 > 10)"
   ]
  },
  {
   "cell_type": "markdown",
   "metadata": {},
   "source": [
    "### Strings, Tuples and Lists\n",
    "\n",
    "Strings, tuples and lists are sequencial data types. You can read more on sequencial data types [here](https://www.python-course.eu/python3_sequential_data_types.php), giving particular attention to strings, tuples and lists, that we briefly cover in what folows.\n",
    "\n",
    "#### String\n",
    "\n",
    "Strings are sets of characters of arbitrary length. Strings are indexed by position, that is, we can use a position (integer between 0 and length-1) as input and get the character stored in that position."
   ]
  },
  {
   "cell_type": "code",
   "execution_count": null,
   "metadata": {},
   "outputs": [],
   "source": [
    "#playing with str\n",
    "s1 = \"ABCDE\"\n",
    "s1"
   ]
  },
  {
   "cell_type": "code",
   "execution_count": null,
   "metadata": {},
   "outputs": [],
   "source": [
    "type(s1)"
   ]
  },
  {
   "cell_type": "code",
   "execution_count": null,
   "metadata": {},
   "outputs": [],
   "source": [
    "s2 = 'FGHIJKL'\n",
    "s2"
   ]
  },
  {
   "cell_type": "code",
   "execution_count": null,
   "metadata": {},
   "outputs": [],
   "source": [
    "s3 = s1 + s2\n",
    "s3"
   ]
  },
  {
   "cell_type": "code",
   "execution_count": null,
   "metadata": {},
   "outputs": [],
   "source": [
    "#caracters and strings\n",
    "print (s1[0])"
   ]
  },
  {
   "cell_type": "code",
   "execution_count": null,
   "metadata": {},
   "outputs": [],
   "source": [
    "len(s1)"
   ]
  },
  {
   "cell_type": "code",
   "execution_count": null,
   "metadata": {},
   "outputs": [],
   "source": [
    "#strings are imutable - the following line should produce an error!\n",
    "s1[0]=\"Z\""
   ]
  },
  {
   "cell_type": "code",
   "execution_count": null,
   "metadata": {},
   "outputs": [],
   "source": [
    "s1[0:2]"
   ]
  },
  {
   "cell_type": "markdown",
   "metadata": {},
   "source": [
    "#### Tuple\n",
    "\n",
    "A tuple is conceptually a list of values that cannot be modified (**tuples are immutable**). The values can be of different types and can even be other tuples. Tuples are also indexed by position, that is, we can use a position (integer between 0 and length-1) as input and get the value stored in that position."
   ]
  },
  {
   "cell_type": "code",
   "execution_count": null,
   "metadata": {},
   "outputs": [],
   "source": [
    "t = (1) # this is not a tuple, it is an expression in ()\n",
    "type(t)"
   ]
  },
  {
   "cell_type": "code",
   "execution_count": null,
   "metadata": {},
   "outputs": [],
   "source": [
    "t = (1,) # this is a tuple\n",
    "t"
   ]
  },
  {
   "cell_type": "code",
   "execution_count": null,
   "metadata": {},
   "outputs": [],
   "source": [
    "t=(10,20)\n",
    "t[0] # tuples are indexable"
   ]
  },
  {
   "cell_type": "code",
   "execution_count": null,
   "metadata": {},
   "outputs": [],
   "source": [
    "t[1] # indexes go from 0 to length - 1 "
   ]
  },
  {
   "cell_type": "code",
   "execution_count": null,
   "metadata": {},
   "outputs": [],
   "source": [
    "t[0] = 1 # tuples are imutable <--- should produce an error!"
   ]
  },
  {
   "cell_type": "code",
   "execution_count": null,
   "metadata": {},
   "outputs": [],
   "source": [
    "# tuples can store values of the same type\n",
    "t1 = (1, 2, 3)\n",
    "t1"
   ]
  },
  {
   "cell_type": "code",
   "execution_count": null,
   "metadata": {},
   "outputs": [],
   "source": [
    "t2 = (1.0, 2.0, 3.0, 4.0) \n",
    "t2"
   ]
  },
  {
   "cell_type": "code",
   "execution_count": null,
   "metadata": {},
   "outputs": [],
   "source": [
    "t3 = (True, False)\n",
    "t3"
   ]
  },
  {
   "cell_type": "code",
   "execution_count": null,
   "metadata": {},
   "outputs": [],
   "source": [
    "# values of differente types\n",
    "t4 = (1, 1.0, True)\n",
    "t4"
   ]
  },
  {
   "cell_type": "code",
   "execution_count": null,
   "metadata": {},
   "outputs": [],
   "source": [
    "# can even store other tuples\n",
    "t5 = (t1, t2, t3)\n",
    "t5"
   ]
  },
  {
   "cell_type": "code",
   "execution_count": null,
   "metadata": {},
   "outputs": [],
   "source": [
    "# tuples are indexable\n",
    "t5[0]"
   ]
  },
  {
   "cell_type": "code",
   "execution_count": null,
   "metadata": {},
   "outputs": [],
   "source": [
    "# tuples are indexable\n",
    "t5[0][1]"
   ]
  },
  {
   "cell_type": "code",
   "execution_count": null,
   "metadata": {},
   "outputs": [],
   "source": [
    "t5[0][1] = 2 # tuples are imutable [ERROR produced!]"
   ]
  },
  {
   "cell_type": "code",
   "execution_count": null,
   "metadata": {},
   "outputs": [],
   "source": [
    "# number of elements - length\n",
    "len(t5)"
   ]
  },
  {
   "cell_type": "code",
   "execution_count": null,
   "metadata": {},
   "outputs": [],
   "source": [
    "len(t5[1])"
   ]
  },
  {
   "cell_type": "markdown",
   "metadata": {},
   "source": [
    "#### List\n",
    "\n",
    "A list is a data structure that stores a list of values. The values can be of different types and can even be other lists. As tuples, lists are indexed by position, but **lists are mutable**, meaning that values can change and even be deleted. You can read further details on lists [here](https://www.python-course.eu/python3_list_manipulation.php) and [here](https://www.python-course.eu/python3_deep_copy.php) (these are a bit advanced topics)."
   ]
  },
  {
   "cell_type": "code",
   "execution_count": null,
   "metadata": {},
   "outputs": [],
   "source": [
    "l = [1, 2, 3]\n",
    "l"
   ]
  },
  {
   "cell_type": "code",
   "execution_count": null,
   "metadata": {},
   "outputs": [],
   "source": [
    "type(l)"
   ]
  },
  {
   "cell_type": "code",
   "execution_count": null,
   "metadata": {},
   "outputs": [],
   "source": [
    "l[0] = (1,2,3) # lists are mutable\n",
    "l"
   ]
  },
  {
   "cell_type": "code",
   "execution_count": null,
   "metadata": {},
   "outputs": [],
   "source": [
    "l = [[1], [1, 2], [1, 2, 3]]\n",
    "l"
   ]
  },
  {
   "cell_type": "code",
   "execution_count": null,
   "metadata": {},
   "outputs": [],
   "source": [
    "l[0] = 1\n",
    "l"
   ]
  },
  {
   "cell_type": "code",
   "execution_count": null,
   "metadata": {},
   "outputs": [],
   "source": [
    "del(l[1])\n",
    "l"
   ]
  },
  {
   "cell_type": "markdown",
   "metadata": {},
   "source": [
    "### Dictionaries and Sets\n",
    "\n",
    "#### Dictionary\n",
    "\n",
    "A dictionary is a data structure that stores pairs (key, value). Dictinaries are indexed by key, that is, we can use a key as input to obtain the corresponding value. Values can change and keys (together with corresponding values) can be deleted. You can read more on dictionaries [here](https://www.python-course.eu/python3_dictionaries.php)."
   ]
  },
  {
   "cell_type": "code",
   "execution_count": null,
   "metadata": {},
   "outputs": [],
   "source": [
    "d = {1: \"a\", 2: \"b\", 3: \"c\"}\n",
    "d"
   ]
  },
  {
   "cell_type": "code",
   "execution_count": null,
   "metadata": {},
   "outputs": [],
   "source": [
    "type(d)"
   ]
  },
  {
   "cell_type": "code",
   "execution_count": null,
   "metadata": {},
   "outputs": [],
   "source": [
    "# get value stored with key 1\n",
    "d[1] # indexed by key"
   ]
  },
  {
   "cell_type": "code",
   "execution_count": null,
   "metadata": {},
   "outputs": [],
   "source": [
    "# change value stored with key 1\n",
    "d[1] = \"aaa\"\n",
    "d"
   ]
  },
  {
   "cell_type": "code",
   "execution_count": null,
   "metadata": {},
   "outputs": [],
   "source": [
    "d[1]"
   ]
  },
  {
   "cell_type": "code",
   "execution_count": null,
   "metadata": {},
   "outputs": [],
   "source": [
    "# change value for key 4\n",
    "d[4] = 'd'\n",
    "d"
   ]
  },
  {
   "cell_type": "code",
   "execution_count": null,
   "metadata": {},
   "outputs": [],
   "source": [
    "# the key 0 does not exist\n",
    "#d[0]"
   ]
  },
  {
   "cell_type": "code",
   "execution_count": null,
   "metadata": {},
   "outputs": [],
   "source": [
    "# delete key 1 and its value\n",
    "del[d[1]]\n",
    "d"
   ]
  },
  {
   "cell_type": "markdown",
   "metadata": {},
   "source": [
    "#### Set\n",
    "\n",
    "A set is a data structure, an unordered collection, somewhat similar to a dictionary, but storing only keys and no values. Keys are unique. Elements of a set must then be of an immutable type (or at least an hashable one).\n",
    "\n",
    "You can read more on sets [here](https://www.python-course.eu/python3_sets_frozensets.php)."
   ]
  },
  {
   "cell_type": "code",
   "execution_count": null,
   "metadata": {},
   "outputs": [],
   "source": [
    "s = set()\n",
    "type(s)"
   ]
  },
  {
   "cell_type": "code",
   "execution_count": null,
   "metadata": {},
   "outputs": [],
   "source": [
    "s.add(1)\n",
    "s.add(2)\n",
    "s.add(3)\n",
    "s"
   ]
  },
  {
   "cell_type": "code",
   "execution_count": null,
   "metadata": {},
   "outputs": [],
   "source": [
    "# check if 1 is in s \n",
    "1 in s"
   ]
  },
  {
   "cell_type": "code",
   "execution_count": null,
   "metadata": {},
   "outputs": [],
   "source": [
    "# check if 4 is in s \n",
    "4 in s"
   ]
  },
  {
   "cell_type": "code",
   "execution_count": null,
   "metadata": {},
   "outputs": [],
   "source": [
    "# add 5 to s\n",
    "s.add(5)\n",
    "s"
   ]
  },
  {
   "cell_type": "code",
   "execution_count": null,
   "metadata": {},
   "outputs": [],
   "source": [
    "# add 1 to s\n",
    "s.add(1) #nothing happens\n",
    "s"
   ]
  },
  {
   "cell_type": "markdown",
   "metadata": {},
   "source": [
    "## 3. Control Flow\n",
    "\n",
    "Control flow is crucial in any programming language. Python is very similar to other programming languages and uses mainly **if**, **while** and **for** for control flow.\n",
    "\n",
    "### Conditional Statements: If, if-else and if-elif-else\n",
    "\n",
    "You can read more on conditional statement [here](https://www.python-course.eu/python3_conditional_statements.php)"
   ]
  },
  {
   "cell_type": "code",
   "execution_count": null,
   "metadata": {},
   "outputs": [],
   "source": [
    "a, b = 1, 2\n",
    "\n",
    "if a > b:\n",
    "    max = a\n",
    "else:\n",
    "    max = b\n",
    "max"
   ]
  },
  {
   "cell_type": "code",
   "execution_count": null,
   "metadata": {},
   "outputs": [],
   "source": [
    "a, b, c = 1, 2, 3\n",
    "if a > b and a > c:\n",
    "    max = a\n",
    "elif b > a and b > c:\n",
    "     max = b\n",
    "else:\n",
    "    max = c\n",
    "max "
   ]
  },
  {
   "cell_type": "markdown",
   "metadata": {},
   "source": [
    "### Loops: while and for\n",
    "\n",
    "You can read more on loops and the **while loop** [here](https://www.python-course.eu/python3_loops.php) and more on the **for loop** [here](https://www.python-course.eu/python3_for_loop.php). "
   ]
  },
  {
   "cell_type": "code",
   "execution_count": null,
   "metadata": {
    "scrolled": true
   },
   "outputs": [],
   "source": [
    "i = 0\n",
    "while i < 5:\n",
    "    print (i)\n",
    "    i += 1"
   ]
  },
  {
   "cell_type": "code",
   "execution_count": null,
   "metadata": {},
   "outputs": [],
   "source": [
    "for i in range(5):\n",
    "    print(i)"
   ]
  },
  {
   "cell_type": "code",
   "execution_count": null,
   "metadata": {},
   "outputs": [],
   "source": [
    "d = {1: \"a\", 2: \"b\", 3: \"c\"}\n",
    "for key, value in d.items():\n",
    "    print (key, value)"
   ]
  },
  {
   "cell_type": "markdown",
   "metadata": {},
   "source": [
    "## 4. Functions \n",
    "\n",
    "As in other programming languages, a function in Python is a structuring element grouping a set of statements so they can be used more than once in a program. Functions in Python can have arguments and return values. You can read more on using functions in Python [here](https://www.python-course.eu/python3_functions.php), further read on parameters and arguments [here](https://www.python-course.eu/python3_passing_arguments.php) and on recursive functions [here](https://www.python-course.eu/python3_recursive_functions.php).\n"
   ]
  },
  {
   "cell_type": "code",
   "execution_count": null,
   "metadata": {},
   "outputs": [],
   "source": [
    "#function with two arguments returning one value\n",
    "def max2numbers(a,b):\n",
    "    if a > b:\n",
    "        return a\n",
    "    else:\n",
    "        return b\n",
    "\n",
    "mx = max2numbers(5,10)\n",
    "mx "
   ]
  },
  {
   "cell_type": "code",
   "execution_count": null,
   "metadata": {},
   "outputs": [],
   "source": [
    "#function with two arguments returning two values\n",
    "def minMax2numbers(a, b):\n",
    "    if a > b:\n",
    "        return b, a\n",
    "    else:\n",
    "        return a, b\n",
    "\n",
    "mn, mx = minMax2numbers(10,5)\n",
    "print (mn, mx)"
   ]
  },
  {
   "cell_type": "code",
   "execution_count": null,
   "metadata": {},
   "outputs": [],
   "source": [
    "#recursive function\n",
    "def factorial (n):\n",
    "    if n == 0:\n",
    "        return 1\n",
    "    else:\n",
    "        return n * factorial(n-1)\n",
    "    \n",
    "factorial(3)"
   ]
  },
  {
   "cell_type": "markdown",
   "metadata": {},
   "source": [
    "## 5. Modules and Packages\n",
    "\n",
    "Another way to structure programming and reuse code is by using **modules**. In Python every file, which has the file extension .py and consists of proper Python code, can be seen or is a module. There is no special syntax required to make such a file a module. A module can contain arbitrary objects, for example files, classes or attributes. All those objects can be accessed after an import. There are different ways to import a modules. You can read more on modules and modular programming [here](https://www.python-course.eu/python3_modules_and_modular_programming.php). **Packages** are a way of structuring modules by using “dotted module names”. For example, the module name A.B designates a submodule named B in a package named A. You can read more on modules and packages [here](https://docs.python.org/3/tutorial/modules.html#)\n",
    "\n",
    "Exercise:\n",
    "1. On Jupyter create a new  text file in the same folder as this actual file\n",
    "2. rename the text file to `mymodule.py` (the `.py` extension is important!\n",
    "3. on that file copy and paste the previous function `factorial(n)` with a name `myFactorial(n)`\n",
    "4. Save the file\n",
    "\n",
    "Now execute fhe following code to import the module and use the myFactorial function\n"
   ]
  },
  {
   "cell_type": "code",
   "execution_count": null,
   "metadata": {},
   "outputs": [],
   "source": [
    "import mymodule\n",
    "mymodule.factorial(5)"
   ]
  },
  {
   "cell_type": "markdown",
   "metadata": {},
   "source": [
    "Another possibility is to import one function or data and use it seamlessly in your code"
   ]
  },
  {
   "cell_type": "code",
   "execution_count": null,
   "metadata": {},
   "outputs": [],
   "source": [
    "from mymodule import myFactorial\n",
    "myFactorial(5)"
   ]
  },
  {
   "cell_type": "markdown",
   "metadata": {},
   "source": [
    "\n",
    "\n",
    "## 6. Errors and Exceptions\n",
    "\n",
    "Exception handling in Python is very similar to Java. The code, which harbours the risk of an exception, is embedded in a try block. But whereas in Java exceptions are caught by catch clauses, statements are introduced by an \"except\" keyword in Python. It is possible to create \"custom-made\" exceptions: With the raise statement it's possible to force a specified exception to occur. You can read more on exception handling [here](https://www.python-course.eu/python3_exception_handling.php).\n",
    "\n",
    "Try the following code:"
   ]
  },
  {
   "cell_type": "code",
   "execution_count": null,
   "metadata": {},
   "outputs": [],
   "source": [
    "def displayInverse(n):\n",
    "    print(\"Inverse of \", i, \"-->\", 1/i)\n",
    "    \n",
    "\n",
    "for i in range(-3,3):\n",
    "    displayInverse(i)"
   ]
  },
  {
   "cell_type": "markdown",
   "metadata": {},
   "source": [
    "A ZeroDivisionError can be handled separately within your code with some exception handling maintaining essentially the same code\n"
   ]
  },
  {
   "cell_type": "code",
   "execution_count": null,
   "metadata": {},
   "outputs": [],
   "source": [
    "def safeDisplayInverse(n):\n",
    "    try:\n",
    "        print(\"Inverse of \", i, \"-->\", 1/i)\n",
    "    except ZeroDivisionError:\n",
    "        print(\"Inverse of \", i, \"--> Cannot be computed\")\n",
    "        \n",
    "        \n",
    "for i in range(-3,3):\n",
    "    safeDisplayInverse(i)"
   ]
  },
  {
   "cell_type": "markdown",
   "metadata": {},
   "source": [
    "## 7.  Iterators and Generators\n",
    "\n",
    "An iterator can be seen as a pointer to a container, for example a list structure that can iterate over all the elements of this container. The iterator is an abstraction, which enables the programmer to access all the elements of a container (a list, a set and so on) without any deeper knowledge of the data structure of this container object. In Python, iterators are implicitly available and can be used in foreach loops, corresponding to for loops in Python. Generators are a special kind of function, which enable us to implement or generate iterators. Iterators are a fundamental concept of Python. Mostly, iterators are implicitly used, like in the for-loop of Python. You can read more on iterators and generators [here](https://www.python-course.eu/python3_generators.php).\n",
    "\n",
    "The usage on the list as an iterator is described below:"
   ]
  },
  {
   "cell_type": "code",
   "execution_count": null,
   "metadata": {},
   "outputs": [],
   "source": [
    "colorLst=[\"White\", \"Red\", \"Green\", \"Blue\", \"Black\"]\n",
    "for color in colorLst:\n",
    "    print(\"The color is\", color)"
   ]
  },
  {
   "cell_type": "markdown",
   "metadata": {},
   "source": [
    "Sometimes it is a good idea to use `enumerate` to know the index of the iterator. Notice we do not use any increment for tracking the index"
   ]
  },
  {
   "cell_type": "code",
   "execution_count": null,
   "metadata": {},
   "outputs": [],
   "source": [
    "\n",
    "for i, color in enumerate(colorLst):\n",
    "    print(\"The color %d is %s\" %(i, color))"
   ]
  },
  {
   "cell_type": "markdown",
   "metadata": {},
   "source": [
    "Even sets and dictionaries that do not have an intrinsic order are iterators and we can enumerate them. Even though they do not have indexed accesss"
   ]
  },
  {
   "cell_type": "code",
   "execution_count": null,
   "metadata": {},
   "outputs": [],
   "source": [
    "colorSet=set(colorLst)\n",
    "#Notice the order of the colors changes (as the set order is unpredictable\n",
    "for i, color in enumerate(colorSet):\n",
    "    print(\"The color %d is %s\" %(i, color))"
   ]
  },
  {
   "cell_type": "markdown",
   "metadata": {},
   "source": [
    "\n",
    "\n",
    "## 8. List Comprehension\n",
    "\n",
    "List comprehension is an elegant way to define and create lists in Python. These lists have often the qualities of sets, but are not in all cases sets. You can read more on list comprehension [here](https://www.python-course.eu/python3_list_comprehension.php).\n",
    "\n",
    "Notice how we create a list of 10 squares with one instruction"
   ]
  },
  {
   "cell_type": "code",
   "execution_count": null,
   "metadata": {},
   "outputs": [],
   "source": [
    "squaresList=[i*i for i in range(1, 11)]\n",
    "squaresList"
   ]
  },
  {
   "cell_type": "markdown",
   "metadata": {},
   "source": [
    "List compreensions can be chained"
   ]
  },
  {
   "cell_type": "code",
   "execution_count": null,
   "metadata": {},
   "outputs": [],
   "source": [
    "MultiplicationTable=[\"%2d x %2d = %3d\" %(i,j,i*j) for i in range(1, 4)  for j in range(1, 4)]\n",
    "\n",
    "for row in MultiplicationTable: print(row)"
   ]
  },
  {
   "cell_type": "markdown",
   "metadata": {},
   "source": [
    "We can do the same with a dictionary. This next example mixes a lot of concepts. See if you throughly understand the code and play with it a bit"
   ]
  },
  {
   "cell_type": "code",
   "execution_count": null,
   "metadata": {},
   "outputs": [],
   "source": [
    "DicMultTable = {(i,j): i*j for i in range(1, 4)  for j in range(1, 4) }\n",
    "DicMultTable"
   ]
  },
  {
   "cell_type": "code",
   "execution_count": null,
   "metadata": {},
   "outputs": [],
   "source": [
    "for a,b in DicMultTable: print(\"%2d x %2d = %2d\" % (a,b, DicMultTable[(a,b)]))"
   ]
  },
  {
   "cell_type": "markdown",
   "metadata": {},
   "source": [
    "\n",
    "\n",
    "## 9. Classes and Objects\n",
    "\n",
    "Even though we can program in Python without thinking about object oriented programming, classes and objects are ubiquitous in Python. Python was designed following the principle \"first-class everything\", meaning all objects that can be named in the language (integers, strings, functions, classes, modules, methods, and so on) have equal status, that is, they can be assigned to variables, placed in lists, stored in dictionaries, passed as arguments, and so forth. This means that \"everything\" is treated the same way, everything is a class: functions and methods are values just like lists, integers or floats. Each of these are instances of their corresponding classes. You can read more about object oriented programming in Python [here](https://www.python-course.eu/python3_object_oriented_programming.php).\n",
    "\n",
    "We create a Class with the `class` keyword. A class can have data and methods\n",
    "\n",
    "The class below has one method for adding the elements of a list. If the elements are not addeable, or list 2 is smaller than list 1, an exception will be produced\n",
    "\n",
    "Notice that the first parameter of a class method is always `self` and is a reference to the object being created. All internal attributes are always addressed with `self` beforehand\n"
   ]
  },
  {
   "cell_type": "code",
   "execution_count": null,
   "metadata": {},
   "outputs": [],
   "source": [
    "class ListArithmetic:\n",
    "    def __init__(self, desc=\"NoComment\"):\n",
    "        self.description=desc\n",
    "        pass\n",
    "    \n",
    "    def addLists(self,L1, L2):\n",
    "        R=[]\n",
    "        try:\n",
    "            for i, v in enumerate(L1):\n",
    "                R.append(v+L2[i])\n",
    "            return R\n",
    "        except:\n",
    "            print(\"Oy! Something went wrong. Nothing like an Unspecified Error to lighten up your mood!\")\n"
   ]
  },
  {
   "cell_type": "markdown",
   "metadata": {},
   "source": [
    "Take notice how we use this class:\n",
    "\n",
    "* First we instantiate the class like calling a function. This will execute the `__init__` method (the constructor). In this specific case there is one optional argument (`desc`)that is stored in a variable (`description`) that is specific to the object being created"
   ]
  },
  {
   "cell_type": "code",
   "execution_count": null,
   "metadata": {},
   "outputs": [],
   "source": [
    "LA=ListArithmetic(\"A good class for list arithmetic\")\n",
    "LA.description"
   ]
  },
  {
   "cell_type": "markdown",
   "metadata": {},
   "source": [
    "* We can change the attributes of the class directly without the need ot running the constructor again"
   ]
  },
  {
   "cell_type": "code",
   "execution_count": null,
   "metadata": {},
   "outputs": [],
   "source": [
    "LA.description=\"A very incomplete and sloppy implementation of List Arithmetic\"\n",
    "LA.description"
   ]
  },
  {
   "cell_type": "markdown",
   "metadata": {},
   "source": [
    "* Now we can call the class methods by naming the function like this: `object.method()`"
   ]
  },
  {
   "cell_type": "code",
   "execution_count": null,
   "metadata": {},
   "outputs": [],
   "source": [
    "A=[1,111, 23]\n",
    "B=[10, 20, 30]\n",
    "\n",
    "C=LA.addLists(A,B)\n",
    "print(\"List C: \", C)\n",
    "D=LA.addLists(B,C)\n",
    "\n",
    "print(\"List D: \", D)\n"
   ]
  },
  {
   "cell_type": "markdown",
   "metadata": {},
   "source": [
    "* Adding elements can have surprising usages"
   ]
  },
  {
   "cell_type": "code",
   "execution_count": null,
   "metadata": {},
   "outputs": [],
   "source": [
    "names=[\"Sarah\", \"Rachel\", \"David\"]\n",
    "titles=[\"Ms \", \"Miss \", \"Your Highness \"]\n",
    "LA.addLists(titles,names)\n"
   ]
  },
  {
   "cell_type": "markdown",
   "metadata": {},
   "source": [
    "* of course many things can go wrong\n"
   ]
  },
  {
   "cell_type": "code",
   "execution_count": null,
   "metadata": {},
   "outputs": [],
   "source": [
    "LA.addLists(titles,A)"
   ]
  },
  {
   "cell_type": "markdown",
   "metadata": {},
   "source": [
    "## 10. Files\n",
    "\n",
    "Handling files is a fundamental functionality in any programming language\n"
   ]
  },
  {
   "cell_type": "markdown",
   "metadata": {},
   "source": [
    "#### Opening a file\n",
    "\n",
    "we use the command `open` to open a file that receives as arguments the name of the file to open and how it is going to be opened \"w\" for write and \"r\" for read.  We may use \"t\" to further specify that we are handling a text file"
   ]
  },
  {
   "cell_type": "code",
   "execution_count": null,
   "metadata": {},
   "outputs": [],
   "source": [
    "F=open(\"myfile\", \"wt\")\n"
   ]
  },
  {
   "cell_type": "markdown",
   "metadata": {},
   "source": [
    "#### writing to files\n",
    "\n",
    "typically files are written with the `write` method tthat accepts only strings. The \"\\n\" character indicate an end of line. If it is not used then everything will be written on the same line\n",
    "\n",
    "files mus be closed specifically after use. ALWAYS"
   ]
  },
  {
   "cell_type": "code",
   "execution_count": null,
   "metadata": {},
   "outputs": [],
   "source": [
    "F.write(\"123\\n\")\n",
    "F.write(\"987\\n\")\n",
    "F.close()"
   ]
  },
  {
   "cell_type": "markdown",
   "metadata": {},
   "source": [
    "#### reading from files\n",
    "\n",
    "We just need to open the file in mode \"r\" for reading and use readline() or readlines()"
   ]
  },
  {
   "cell_type": "code",
   "execution_count": null,
   "metadata": {},
   "outputs": [],
   "source": [
    "F=open(\"myfile\", \"rt\")\n",
    "lines=F.readlines()\n",
    "for line in lines: print(\"--->\", line)\n",
    "F.close()"
   ]
  },
  {
   "cell_type": "code",
   "execution_count": null,
   "metadata": {},
   "outputs": [],
   "source": [
    "F=open(\"myfile\", \"rt\")\n",
    "line=F.readline()\n",
    "print(\"--->\", line)\n",
    "line=F.readline()\n",
    "print(\"--->\", line)\n",
    "F.close()"
   ]
  },
  {
   "cell_type": "markdown",
   "metadata": {},
   "source": [
    "## Exercises\n",
    "\n"
   ]
  },
  {
   "cell_type": "markdown",
   "metadata": {},
   "source": [
    "1. Consider two strings a and b with the same length. Write a function that produces a list of strings with one character of each :\n",
    "\n",
    "e.g.\n",
    "```\n",
    "a=\"ABC\"\n",
    "b=\"XYZ\"\n",
    "\n",
    "returns [\"AX\", \"BY\", \"CZ\"]\n",
    "```"
   ]
  },
  {
   "cell_type": "code",
   "execution_count": null,
   "metadata": {},
   "outputs": [],
   "source": [
    "#your turn"
   ]
  },
  {
   "cell_type": "markdown",
   "metadata": {},
   "source": [
    "2. Create a new function identical to the previous one that checks if the strings have the same length, and only then does the same operation"
   ]
  },
  {
   "cell_type": "code",
   "execution_count": null,
   "metadata": {},
   "outputs": [],
   "source": [
    "#your turn"
   ]
  },
  {
   "cell_type": "markdown",
   "metadata": {},
   "source": [
    "4. make a function identical to the first one, but if one string is smaller than the other, the blanks are filled with \"-\"\n",
    "```\n",
    "a=\"ABC\" e b=\"XY\"  devolve [\"AX\", \"BY\", \"C-\"]\n",
    "ou\n",
    "a=\"AB\" e b=\"WXYZ\"  devolve [\"AW\", \"BX\", \"-Y\", \"-Z\"]\n",
    "```"
   ]
  },
  {
   "cell_type": "code",
   "execution_count": null,
   "metadata": {},
   "outputs": [],
   "source": [
    "#your turn"
   ]
  },
  {
   "cell_type": "markdown",
   "metadata": {},
   "source": [
    "5. make a new function that given a list of strings of 2 characters returns the original strings"
   ]
  },
  {
   "cell_type": "code",
   "execution_count": null,
   "metadata": {},
   "outputs": [],
   "source": [
    "#your turn"
   ]
  },
  {
   "cell_type": "markdown",
   "metadata": {},
   "source": [
    "6. Create a class `Stringer` with the following methods\n",
    "\n",
    "* `Join` with arguments a and b (strings) that returns a list of strings as in exercise 4\n",
    "* `GetStrings` if the argumnent is a list o strings of size 2, produces the original strings \n",
    "* `Save`  does not return anything but writes the last result (list of joined strings) to a file\n",
    "* `Load` loads a list of strings from a file and returns it\n",
    "\n",
    "Create an example of use of this class"
   ]
  },
  {
   "cell_type": "code",
   "execution_count": null,
   "metadata": {},
   "outputs": [],
   "source": [
    "#your turn"
   ]
  }
 ],
 "metadata": {
  "kernelspec": {
   "display_name": "Python 3 (ipykernel)",
   "language": "python",
   "name": "python3"
  },
  "language_info": {
   "codemirror_mode": {
    "name": "ipython",
    "version": 3
   },
   "file_extension": ".py",
   "mimetype": "text/x-python",
   "name": "python",
   "nbconvert_exporter": "python",
   "pygments_lexer": "ipython3",
   "version": "3.9.13"
  }
 },
 "nbformat": 4,
 "nbformat_minor": 4
}
