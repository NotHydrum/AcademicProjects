{
 "cells": [
  {
   "cell_type": "code",
   "execution_count": 1,
   "id": "c1cd2377",
   "metadata": {},
   "outputs": [
    {
     "name": "stdout",
     "output_type": "stream",
     "text": [
      "---> Vamos verificar o atributo com índice: 0\n",
      "filtro os dados para o atributo 0 = 1\n",
      "{'A': (1, 1, 'preto'), 'B': (1, 1, 'branco'), 'C': (1, 3, 'preto')}\n",
      "filtro os dados para o atributo 0 = 2\n",
      "{'D': (2, 3, 'preto'), 'E': (2, 2, 'preto'), 'F': (2, 1, 'branco')}\n",
      "filtro os dados para o atributo 0 = 3\n",
      "{'G': (3, 2, 'branco'), 'H': (3, 1, 'branco'), 'I': (3, 3, 'preto'), 'J': (3, 2, 'preto'), 'K': (3, 1, 'preto'), 'L': (3, 1, 'branco')}\n",
      "Distribuição dos pontos pelas classes: [[1, 2], [1, 2], [3, 3]]\n",
      "entropia([1, 2])=-1/3.log2(1/3)-2/3.log2(2/3)=0.9183\n",
      "entropia([1, 2])=-1/3.log2(1/3)-2/3.log2(2/3)=0.9183\n",
      "entropia([3, 3])=-3/6.log2(3/6)-3/6.log2(3/6)=1.0\n",
      "entropiaMédia([[1, 2], [1, 2], [3, 3]])=3/12x0.9183+3/12x0.9183+6/12x1.0=0.9591\n",
      "---> Vamos verificar o atributo com índice: 1\n",
      "filtro os dados para o atributo 1 = 1\n",
      "{'A': (1, 1, 'preto'), 'B': (1, 1, 'branco'), 'F': (2, 1, 'branco'), 'H': (3, 1, 'branco'), 'K': (3, 1, 'preto'), 'L': (3, 1, 'branco')}\n",
      "filtro os dados para o atributo 1 = 2\n",
      "{'E': (2, 2, 'preto'), 'G': (3, 2, 'branco'), 'J': (3, 2, 'preto')}\n",
      "filtro os dados para o atributo 1 = 3\n",
      "{'C': (1, 3, 'preto'), 'D': (2, 3, 'preto'), 'I': (3, 3, 'preto')}\n",
      "Distribuição dos pontos pelas classes: [[4, 2], [1, 2], [0, 3]]\n",
      "entropia([4, 2])=-4/6.log2(4/6)-2/6.log2(2/6)=0.9183\n",
      "entropia([1, 2])=-1/3.log2(1/3)-2/3.log2(2/3)=0.9183\n",
      "entropia([0, 3])=-0/3.log2(0/3)-3/3.log2(3/3)=0.0\n",
      "entropiaMédia([[4, 2], [1, 2], [0, 3]])=6/12x0.9183+3/12x0.9183+3/12x0.0=0.6887\n",
      "([(0, 0.9591), (1, 0.6887)], (1, 0.6887), [[{'A': (1, 1, 'preto'), 'B': (1, 1, 'branco'), 'C': (1, 3, 'preto')}, {'D': (2, 3, 'preto'), 'E': (2, 2, 'preto'), 'F': (2, 1, 'branco')}, {'G': (3, 2, 'branco'), 'H': (3, 1, 'branco'), 'I': (3, 3, 'preto'), 'J': (3, 2, 'preto'), 'K': (3, 1, 'preto'), 'L': (3, 1, 'branco')}], [{'A': (1, 1, 'preto'), 'B': (1, 1, 'branco'), 'F': (2, 1, 'branco'), 'H': (3, 1, 'branco'), 'K': (3, 1, 'preto'), 'L': (3, 1, 'branco')}, {'E': (2, 2, 'preto'), 'G': (3, 2, 'branco'), 'J': (3, 2, 'preto')}, {'C': (1, 3, 'preto'), 'D': (2, 3, 'preto'), 'I': (3, 3, 'preto')}]])\n"
     ]
    }
   ],
   "source": [
    "from Decisions import *\n",
    "pontos = {'A':(100,10,'preto'), 'B':(200,5,'branco'), 'C':(100,25,'preto'), 'D':(400,30,'preto'), \\\n",
    "        'E':(300,20,'preto'), 'F':(400,0,'branco'), 'G':(500,20,'branco'), 'H':(600,10,'branco'), \\\n",
    "        'I':(600,30,'preto'), 'J':(700,15,'preto'), 'K':(700,7,'preto'), 'L':(700,3,'branco')}\n",
    "classes = ['branco', 'preto']\n",
    "atributos = ['numero_palavras', 'sir_madam']\n",
    "intervalos = {0:[250,500], 1:[12.5,25]}\n",
    "data = transformaPontos(pontos,intervalos)\n",
    "valores = [[1,2,3]]*2\n",
    "output = escolheAtributo(data,[0,1],valores,['branco','preto'],True)\n",
    "print(output)"
   ]
  },
  {
   "cell_type": "code",
   "execution_count": null,
   "id": "d6df0091",
   "metadata": {},
   "outputs": [],
   "source": []
  }
 ],
 "metadata": {
  "kernelspec": {
   "display_name": "Python 3 (ipykernel)",
   "language": "python",
   "name": "python3"
  },
  "language_info": {
   "codemirror_mode": {
    "name": "ipython",
    "version": 3
   },
   "file_extension": ".py",
   "mimetype": "text/x-python",
   "name": "python",
   "nbconvert_exporter": "python",
   "pygments_lexer": "ipython3",
   "version": "3.8.10"
  }
 },
 "nbformat": 4,
 "nbformat_minor": 5
}
