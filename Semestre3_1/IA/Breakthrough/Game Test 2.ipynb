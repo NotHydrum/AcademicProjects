{
 "cells": [
  {
   "cell_type": "code",
   "execution_count": 1,
   "id": "ccb678f6",
   "metadata": {
    "scrolled": false
   },
   "outputs": [
    {
     "name": "stdout",
     "output_type": "stream",
     "text": [
      "1 Belarmino MixSqr3   --vencedor= MixSqr3  \n",
      "2 Belarmino MixSqr3   --vencedor= Belarmino\n",
      "3 Belarmino MixSqr3   --vencedor= Belarmino\n",
      "4 Belarmino BothSqrN  --vencedor= BothSqrN \n",
      "5 Belarmino BothSqrN  --vencedor= BothSqrN \n",
      "6 Belarmino BothSqrN  --vencedor= BothSqrN \n",
      "7 Belarmino MixSqr3   --vencedor= MixSqr3  \n",
      "8 Belarmino MixSqr3   --vencedor= Belarmino\n",
      "9 Belarmino MixSqr3   --vencedor= MixSqr3  \n",
      "10 Belarmino BothSqrN  --vencedor= BothSqrN \n",
      "11 Belarmino BothSqrN  --vencedor= BothSqrN \n",
      "12 Belarmino BothSqrN  --vencedor= BothSqrN \n",
      "13 Belarmino MixSqr3   --vencedor= MixSqr3  \n",
      "14 Belarmino MixSqr3   --vencedor= MixSqr3  \n",
      "15 Belarmino MixSqr3   --vencedor= Belarmino\n",
      "16 Belarmino BothSqrN  --vencedor= BothSqrN \n",
      "17 Belarmino BothSqrN  --vencedor= BothSqrN \n",
      "18 Belarmino BothSqrN  --vencedor= BothSqrN \n",
      "19 MixSqr3   Belarmino --vencedor= MixSqr3  \n",
      "20 MixSqr3   Belarmino --vencedor= Belarmino\n",
      "21 MixSqr3   Belarmino --vencedor= Belarmino\n",
      "22 MixSqr3   BothSqrN  --vencedor= MixSqr3  \n",
      "23 MixSqr3   BothSqrN  --vencedor= MixSqr3  \n",
      "24 MixSqr3   BothSqrN  --vencedor= MixSqr3  \n",
      "25 MixSqr3   Belarmino --vencedor= MixSqr3  \n",
      "26 MixSqr3   Belarmino --vencedor= MixSqr3  \n",
      "27 MixSqr3   Belarmino --vencedor= Belarmino\n",
      "28 MixSqr3   BothSqrN  --vencedor= MixSqr3  \n",
      "29 MixSqr3   BothSqrN  --vencedor= MixSqr3  \n",
      "30 MixSqr3   BothSqrN  --vencedor= BothSqrN \n",
      "31 MixSqr3   Belarmino --vencedor= MixSqr3  \n",
      "32 MixSqr3   Belarmino --vencedor= MixSqr3  \n",
      "33 MixSqr3   Belarmino --vencedor= MixSqr3  \n",
      "34 MixSqr3   BothSqrN  --vencedor= MixSqr3  \n",
      "35 MixSqr3   BothSqrN  --vencedor= MixSqr3  \n",
      "36 MixSqr3   BothSqrN  --vencedor= MixSqr3  \n",
      "37 BothSqrN  Belarmino --vencedor= BothSqrN \n",
      "38 BothSqrN  Belarmino --vencedor= BothSqrN \n",
      "39 BothSqrN  Belarmino --vencedor= Belarmino\n",
      "40 BothSqrN  MixSqr3   --vencedor= MixSqr3  \n",
      "41 BothSqrN  MixSqr3   --vencedor= MixSqr3  \n",
      "42 BothSqrN  MixSqr3   --vencedor= MixSqr3  \n",
      "43 BothSqrN  Belarmino --vencedor= Belarmino\n",
      "44 BothSqrN  Belarmino --vencedor= Belarmino\n",
      "45 BothSqrN  Belarmino --vencedor= BothSqrN \n",
      "46 BothSqrN  MixSqr3   --vencedor= MixSqr3  \n",
      "47 BothSqrN  MixSqr3   --vencedor= MixSqr3  \n",
      "48 BothSqrN  MixSqr3   --vencedor= MixSqr3  \n",
      "49 BothSqrN  Belarmino --vencedor= Belarmino\n",
      "50 BothSqrN  Belarmino --vencedor= BothSqrN \n",
      "51 BothSqrN  Belarmino --vencedor= BothSqrN \n",
      "52 BothSqrN  MixSqr3   --vencedor= MixSqr3  \n",
      "53 BothSqrN  MixSqr3   --vencedor= MixSqr3  \n",
      "54 BothSqrN  MixSqr3   --vencedor= MixSqr3  \n",
      "JOGADOR VITÓRIAS\n",
      "MixSqr3       28\n",
      "BothSqrN      15\n",
      "Belarmino     11\n"
     ]
    }
   ],
   "source": [
    "from IIA2223 import *\n",
    "from jogar import *\n",
    "game = JogoBT_69420()\n",
    "j1 = JogadorBT_69420_belarmino('Belarmino', 3)\n",
    "j2 = JogadorBT_69420_msqr3('MixSqr3  ', 3)\n",
    "j3 = JogadorBT_69420_msqr3_2('MixSqr3_2', 3)\n",
    "j4 = JogadorBT_69420_msqrn('MixSqrN  ', 3)\n",
    "j5 = JogadorBT_69420_msqrn_2('MixSqrN_2', 3)\n",
    "j6 = JogadorBT_69420_bsqrn(\"BothSqrN \", 3)\n",
    "faz_campeonato(game, [j1, j1, j1, j2, j2, j2, j6, j6, j6], 20)"
   ]
  },
  {
   "cell_type": "code",
   "execution_count": 1,
   "id": "3b970132",
   "metadata": {},
   "outputs": [],
   "source": [
    "import importlib\n",
    "proj_69420 = importlib.import_module(\"IIA2223-proj-jog-69420\") # this is required because\n",
    "                                                                   # python can't import files\n",
    "                                                                   # with dashes in the name\n",
    "from jogar import *\n",
    "game = proj_69420.JogoBT_69420()"
   ]
  },
  {
   "cell_type": "code",
   "execution_count": 3,
   "id": "71c55ec3",
   "metadata": {},
   "outputs": [
    {
     "name": "stdout",
     "output_type": "stream",
     "text": [
      "1 test1 test2 --vencedor= test2\n",
      "2 test2 test1 --vencedor= test1\n",
      "JOGADOR VITÓRIAS\n",
      "test1          1\n",
      "test2          1\n"
     ]
    }
   ],
   "source": [
    "faz_campeonato(game, [proj_69420.jogadorBT_69420('test1', 2), proj_69420.jogadorBT_69420('test2', 2)])"
   ]
  },
  {
   "cell_type": "code",
   "execution_count": null,
   "id": "c392937b",
   "metadata": {},
   "outputs": [],
   "source": []
  }
 ],
 "metadata": {
  "kernelspec": {
   "display_name": "Python 3 (ipykernel)",
   "language": "python",
   "name": "python3"
  },
  "language_info": {
   "codemirror_mode": {
    "name": "ipython",
    "version": 3
   },
   "file_extension": ".py",
   "mimetype": "text/x-python",
   "name": "python",
   "nbconvert_exporter": "python",
   "pygments_lexer": "ipython3",
   "version": "3.8.10"
  }
 },
 "nbformat": 4,
 "nbformat_minor": 5
}
