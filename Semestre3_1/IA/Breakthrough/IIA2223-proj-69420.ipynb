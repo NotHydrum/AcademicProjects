{
 "cells": [
  {
   "cell_type": "markdown",
   "metadata": {
    "colab_type": "text",
    "id": "LekFEsVbua_R"
   },
   "source": [
    "#  Jogo BreakThrough\n",
    "\n",
    "## Introdução à Inteligência Artificial edição 2022/23\n",
    "### Projeto para avaliação\n",
    "\n",
    "<img src=\"./images/Picture0.png\" alt=\"Drawing\" style=\"width: 200px;\"/>"
   ]
  },
  {
   "cell_type": "markdown",
   "metadata": {},
   "source": [
    "### Grupo: 69420\n",
    "\n",
    "#### Elementos do Grupo\n",
    "\n",
    "Nome: Henrique Catarino\n",
    "\n",
    "Número: 56278\n",
    "\n",
    "Nome: Miguel Nunes\n",
    "\n",
    "Número: 56338\n",
    "\n",
    "Nome: Pedro Lourenço\n",
    "\n",
    "Número: 56360"
   ]
  },
  {
   "cell_type": "markdown",
   "metadata": {},
   "source": [
    "## Formulação do Jogo BreakThrough em termos de estados e de operadores"
   ]
  },
  {
   "cell_type": "markdown",
   "metadata": {},
   "source": [
    "### Descrição da representação dos estados do jogo"
   ]
  },
  {
   "cell_type": "markdown",
   "metadata": {},
   "source": [
    "Os estados do jogo são representados por um namedtuple, StateBT, que é constítuido por:\n",
    "- 1 Set que contem as posições das peças brancas, chamado 'whites';\n",
    "- 1 Set que contem as posições das peças pretas, chamado 'blacks';\n",
    "- 1 int que representa o próximo cor a jogar, chamado 'to_move':\n",
    "  - Valor 1 significa que as brancas jogam a seguir;\n",
    "  - Valor 2 significa que as pretas jogam a seguir."
   ]
  },
  {
   "cell_type": "markdown",
   "metadata": {},
   "source": [
    "### Testes da formulação"
   ]
  },
  {
   "cell_type": "markdown",
   "metadata": {},
   "source": [
    "#### Situações iniciais dos jogos\n",
    "Uso do construtor e \"display\" de jogos iniciais"
   ]
  },
  {
   "cell_type": "markdown",
   "metadata": {},
   "source": [
    "Construção de um novo jogo com a situação inicial seguinte:\n",
    "\n",
    "<img src=\"./images/Picture1.png\" alt=\"Drawing\" style=\"width: 150px;\"/>\n",
    "<p style=\"text-align: center;\">Figura 1</p>"
   ]
  },
  {
   "cell_type": "code",
   "execution_count": null,
   "metadata": {},
   "outputs": [],
   "source": [
    "import importlib\n",
    "proj_69420 = importlib.import_module(\"IIA2223-proj-tudo-69420\") # this is required because\n",
    "                                                                # python can't import files\n",
    "                                                                # with dashes in the name\n",
    "from jogar import *\n",
    "game = proj_69420.JogoBT_69420()"
   ]
  },
  {
   "cell_type": "markdown",
   "metadata": {},
   "source": [
    "Eis o display desse estado inicial do jogo:"
   ]
  },
  {
   "cell_type": "code",
   "execution_count": null,
   "metadata": {},
   "outputs": [],
   "source": [
    "game.display(game.initial)"
   ]
  },
  {
   "cell_type": "markdown",
   "metadata": {},
   "source": [
    "## Jogos entre jogadores simples\n",
    "Nesta secção irão realizar alguns jogos, para verificar a modelização"
   ]
  },
  {
   "cell_type": "code",
   "execution_count": null,
   "metadata": {},
   "outputs": [],
   "source": [
    "log1 = joga11(game, proj_69420.jogadorBT_69420_random('Random 1'), proj_69420.jogadorBT_69420_random('Random 2'))\n",
    "log2 = joga11(game, proj_69420.jogadorBT_69420_first('First 1'), proj_69420.jogadorBT_69420_first('First 2'))\n",
    "log3 = joga11(game, proj_69420.jogadorBT_69420_first('Random'), proj_69420.jogadorBT_69420_random('First'))"
   ]
  },
  {
   "cell_type": "markdown",
   "metadata": {},
   "source": [
    "Faça o display de um dos jogos realizados atrás"
   ]
  },
  {
   "cell_type": "code",
   "execution_count": null,
   "metadata": {},
   "outputs": [],
   "source": [
    "mostraJogo(game, log3, True)"
   ]
  },
  {
   "cell_type": "markdown",
   "metadata": {},
   "source": [
    "## Exemplos de jogadores alfabeta\n",
    " Descreva e teste nesta secção as várias funções de avaliação desenvolvidas tanto para o ataque como para a defesa."
   ]
  },
  {
   "cell_type": "markdown",
   "metadata": {},
   "source": [
    "Fizemos vários jogadores que usam funções de avaliações diferentes:\n",
    "- Funções ofensivas (o, osqr e o Belarmino) cujo valor do estado é dependente das posições das peças, quanto mais para a frente estiverem mais valem;\n",
    "- Funções defensivas (d, dsqr) cujo valor do estado é dependente das posições das peças, quanto mais para trás estiverem mais valem;\n",
    "- Funções ofensivas \"comedoras\" (m, msqr3) com valorização de peças igual à das ofensivas normais mas onde o valor das peças do adversário são subtraídas do valor calculado;\n",
    "- Função ofensiva \"forward\" (fsqrn) onde o valor da peça mais dianteira do jogador é contada e é subtraído o valor da peça mais dianteira do adversário;\n",
    "- Função \"híbrida\" (bsqrn) onde o valor das peças é alto na linha mais traseira, desçe ao andar para a frente até ao meio e volta a subir até ao fim.\n",
    "Funções com \"sqr\" no nome elevam os valores de cada peça por 2 se não tiverem número no nome, pelo número no nome se existir, ou pelo próprio valor quando o nome for \"sqrn\"."
   ]
  },
  {
   "cell_type": "markdown",
   "metadata": {},
   "source": [
    "## Exemplos de jogos entre alguns desses jogadores e o Belarmino"
   ]
  },
  {
   "cell_type": "code",
   "execution_count": null,
   "metadata": {
    "scrolled": true
   },
   "outputs": [],
   "source": [
    "# estes jogos podem demorar um bocado\n",
    "log4 = joga11(game, proj_69420.jogadorBT_69420_msqr3('MSQR3', 3), proj_69420.jogadorBT_69420_belarmino('Belarmino', 3))\n",
    "mostraJogo(game, log4, True)\n",
    "log5 = joga11(game, proj_69420.jogadorBT_69420_bsqrn('BSQRN', 3), proj_69420.jogadorBT_69420_belarmino('Belarmino', 3))\n",
    "mostraJogo(game, log5, True)"
   ]
  },
  {
   "cell_type": "markdown",
   "metadata": {},
   "source": [
    "## Exemplos de jogos entre dois dos vários jogadores desenvolvidos"
   ]
  },
  {
   "cell_type": "code",
   "execution_count": null,
   "metadata": {},
   "outputs": [],
   "source": [
    "log6 = joga11(game, proj_69420.jogadorBT_69420_msqr3('MSQR3', 3), proj_69420.jogadorBT_69420_bsqrn('BSQRN', 3))\n",
    "mostraJogo(game, log6, True)"
   ]
  },
  {
   "cell_type": "markdown",
   "metadata": {},
   "source": [
    "## Processo de selecção dos jogadores para o torneio"
   ]
  },
  {
   "cell_type": "markdown",
   "metadata": {},
   "source": [
    "Originalmente descobrimos que as funções ofensivas eram melhores que as defensivas, depois de termos feito jogos entre elas.\n",
    "Depois de criarmos as funções \"comedoras\" decidimos fazer um campeonato entre os vários jogadores, que nos deu estes resultados:\n",
    "\n",
    "<pre>JOGADOR VITÓRIAS\n",
    "MSqr3         37\n",
    "MSqr          32\n",
    "MSqr5         29\n",
    "OSqr          27\n",
    "M             22\n",
    "O             13\n",
    "D              6\n",
    "DSqr           2</pre>\n",
    "\n",
    "Depois disto descobrimos que a função do Belarmino (que aqui era suposto ser o O) não era suposto valorizar só a linha de cada peça, também devia elevar esse valor a si mesmo, portanto fizemos um segundo campeonato entre o novo Belarmino, o MSqr3 e uma outra função que fizemos entretanto:\n",
    "\n",
    "<pre>JOGADOR VITÓRIAS\n",
    "MSqr3         28\n",
    "BSqrN         15\n",
    "Belarmino     11</pre>\n",
    "\n",
    "Este campeonato foi feito entre três jogadores de cada (faz_campeonato(game, [j1, j1, j1, j2, j2, j2, j3, j3, j3], 20)) de forma a haver mais jogos entre cada função, porque achamos que um único jogo não representa muito bem as funcões.\n",
    "\n",
    "Houveram outros mini-campeonatos pelo meio para testar outras funções, como o MSqrN e o FSqrN, mas estas perdiam sempre para o MSqr3, logo decidimos escolher este para o torneio entre grupos."
   ]
  }
 ],
 "metadata": {
  "colab": {
   "collapsed_sections": [],
   "name": "Untitled0.ipynb",
   "provenance": [],
   "version": "0.3.2"
  },
  "kernelspec": {
   "display_name": "Python 3 (ipykernel)",
   "language": "python",
   "name": "python3"
  },
  "language_info": {
   "codemirror_mode": {
    "name": "ipython",
    "version": 3
   },
   "file_extension": ".py",
   "mimetype": "text/x-python",
   "name": "python",
   "nbconvert_exporter": "python",
   "pygments_lexer": "ipython3",
   "version": "3.8.10"
  }
 },
 "nbformat": 4,
 "nbformat_minor": 2
}
