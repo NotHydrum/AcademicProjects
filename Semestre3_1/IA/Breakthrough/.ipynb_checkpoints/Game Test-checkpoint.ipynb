{
 "cells": [
  {
   "cell_type": "code",
   "execution_count": null,
   "id": "867424ee",
   "metadata": {
    "scrolled": false
   },
   "outputs": [],
   "source": [
    "from IIA2223 import *\n",
    "from jogar import *\n",
    "game = JogoBT_69420()\n",
    "j1 = JogadorAlfaBeta('Off    ', 3, func_eval_o)\n",
    "j2 = JogadorAlfaBeta('OffSqr ', 3, func_eval_osqr)\n",
    "j3 = JogadorAlfaBeta('Def    ', 3, func_eval_d)\n",
    "j4 = JogadorAlfaBeta('DefSqr ', 3, func_eval_dsqr)\n",
    "j5 = JogadorAlfaBeta('Mix    ', 3, func_eval_m)\n",
    "j6 = JogadorAlfaBeta('MixSqr ', 3, func_eval_msqr)\n",
    "j7 = JogadorAlfaBeta('MixSqr5', 3, func_eval_msqr5)\n",
    "def off(game, state):\n",
    "    return alphabeta_cutoff_search_new(state, game, 3, eval_fn=func_eval_o)\n",
    "def mix(game, state):\n",
    "    return alphabeta_cutoff_search_new(state, game, 3, eval_fn=func_eval_msqr)\n",
    "game.jogar(off, mix)"
   ]
  },
  {
   "cell_type": "code",
   "execution_count": null,
   "id": "f2ef18c2",
   "metadata": {},
   "outputs": [],
   "source": []
  }
 ],
 "metadata": {
  "kernelspec": {
   "display_name": "Python 3 (ipykernel)",
   "language": "python",
   "name": "python3"
  },
  "language_info": {
   "codemirror_mode": {
    "name": "ipython",
    "version": 3
   },
   "file_extension": ".py",
   "mimetype": "text/x-python",
   "name": "python",
   "nbconvert_exporter": "python",
   "pygments_lexer": "ipython3",
   "version": "3.8.10"
  }
 },
 "nbformat": 4,
 "nbformat_minor": 5
}
