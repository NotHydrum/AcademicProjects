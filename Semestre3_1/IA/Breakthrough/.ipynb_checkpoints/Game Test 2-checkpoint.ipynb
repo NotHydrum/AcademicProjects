{
 "cells": [
  {
   "cell_type": "code",
   "execution_count": 1,
   "id": "03f9ee86",
   "metadata": {
    "scrolled": false
   },
   "outputs": [
    {
     "name": "stdout",
     "output_type": "stream",
     "text": [
      "-----------------\n",
      "8|B B B B B B B B\n",
      "7|B B B B B B B B\n",
      "6|. . . . . . . .\n",
      "5|. . . . . . . .\n",
      "4|. . . . . . . .\n",
      "3|. . . . . . . .\n",
      "2|W W W W W W W W\n",
      "1|W W W W W W W W\n",
      "-+---------------\n",
      " |a b c d e f g h\n",
      "--NEXT PLAYER: W\n",
      "-----------------\n",
      "8|B B B B B B B B\n",
      "7|B B B B B B B B\n",
      "6|. . . . . . . .\n",
      "5|. . . . . . . .\n",
      "4|. . . . . . . .\n",
      "3|. . W . . . . .\n",
      "2|W . W W W W W W\n",
      "1|W W W W W W W W\n",
      "-+---------------\n",
      " |a b c d e f g h\n",
      "--NEXT PLAYER: B\n"
     ]
    },
    {
     "ename": "KeyboardInterrupt",
     "evalue": "",
     "output_type": "error",
     "traceback": [
      "\u001b[0;31m---------------------------------------------------------------------------\u001b[0m",
      "\u001b[0;31mKeyboardInterrupt\u001b[0m                         Traceback (most recent call last)",
      "Cell \u001b[0;32mIn [1], line 6\u001b[0m\n\u001b[1;32m      4\u001b[0m j1 \u001b[38;5;241m=\u001b[39m JogadorAlfaBeta(\u001b[38;5;124m'\u001b[39m\u001b[38;5;124mJog1\u001b[39m\u001b[38;5;124m'\u001b[39m, \u001b[38;5;241m4\u001b[39m, func_eval_msqr_2)\n\u001b[1;32m      5\u001b[0m j2 \u001b[38;5;241m=\u001b[39m JogadorAlfaBeta(\u001b[38;5;124m'\u001b[39m\u001b[38;5;124mJog2\u001b[39m\u001b[38;5;124m'\u001b[39m, \u001b[38;5;241m4\u001b[39m, func_eval_msqr_2)\n\u001b[0;32m----> 6\u001b[0m \u001b[43mfaz_campeonato\u001b[49m\u001b[43m(\u001b[49m\u001b[43mgame\u001b[49m\u001b[43m,\u001b[49m\u001b[43m \u001b[49m\u001b[43m[\u001b[49m\u001b[43mj1\u001b[49m\u001b[43m,\u001b[49m\u001b[43m \u001b[49m\u001b[43mj2\u001b[49m\u001b[43m]\u001b[49m\u001b[43m,\u001b[49m\u001b[43m \u001b[49m\u001b[38;5;241;43m20\u001b[39;49m\u001b[43m)\u001b[49m\n",
      "File \u001b[0;32m~/Documents/IA/Breakthrough/jogar.py:189\u001b[0m, in \u001b[0;36mfaz_campeonato\u001b[0;34m(jogo, listaJogadores, nsec)\u001b[0m\n\u001b[1;32m    187\u001b[0m \u001b[38;5;28;01mdef\u001b[39;00m \u001b[38;5;21mfaz_campeonato\u001b[39m(jogo, listaJogadores, nsec\u001b[38;5;241m=\u001b[39m\u001b[38;5;241m10\u001b[39m):\n\u001b[1;32m    188\u001b[0m     \u001b[38;5;66;03m### faz todos os jogos com timeout de nsec por jogada\u001b[39;00m\n\u001b[0;32m--> 189\u001b[0m     campeonato \u001b[38;5;241m=\u001b[39m \u001b[43mjogaNN\u001b[49m\u001b[43m(\u001b[49m\u001b[43mjogo\u001b[49m\u001b[43m,\u001b[49m\u001b[43m \u001b[49m\u001b[43mlistaJogadores\u001b[49m\u001b[43m,\u001b[49m\u001b[43m \u001b[49m\u001b[43mlistaJogadores\u001b[49m\u001b[43m,\u001b[49m\u001b[43m \u001b[49m\u001b[43mnsec\u001b[49m\u001b[43m)\u001b[49m\n\u001b[1;32m    190\u001b[0m     \u001b[38;5;66;03m### ignora as jogadas e contabiliza quem ganhou\u001b[39;00m\n\u001b[1;32m    191\u001b[0m     resultado_jogos \u001b[38;5;241m=\u001b[39m [(a,b,n) \u001b[38;5;28;01mfor\u001b[39;00m ((a,b),x,n) \u001b[38;5;129;01min\u001b[39;00m campeonato]\n",
      "File \u001b[0;32m~/Documents/IA/Breakthrough/jogar.py:83\u001b[0m, in \u001b[0;36mjogaNN\u001b[0;34m(game, listaJog, listaAdv, nsec)\u001b[0m\n\u001b[1;32m     81\u001b[0m \u001b[38;5;28;01mif\u001b[39;00m jog \u001b[38;5;241m!=\u001b[39m adv:\n\u001b[1;32m     82\u001b[0m     j \u001b[38;5;241m+\u001b[39m\u001b[38;5;241m=\u001b[39m\u001b[38;5;241m1\u001b[39m\n\u001b[0;32m---> 83\u001b[0m     res \u001b[38;5;241m=\u001b[39m \u001b[43mjoga11com_timeout\u001b[49m\u001b[43m(\u001b[49m\u001b[43mgame\u001b[49m\u001b[43m,\u001b[49m\u001b[43m \u001b[49m\u001b[43mjog\u001b[49m\u001b[43m,\u001b[49m\u001b[43m \u001b[49m\u001b[43madv\u001b[49m\u001b[43m,\u001b[49m\u001b[43m \u001b[49m\u001b[43mnsec\u001b[49m\u001b[43m)\u001b[49m\n\u001b[1;32m     84\u001b[0m     lista_jogos\u001b[38;5;241m.\u001b[39mappend(res)\n\u001b[1;32m     85\u001b[0m     ((a,b),_,d) \u001b[38;5;241m=\u001b[39m res\n",
      "File \u001b[0;32m~/Documents/IA/Breakthrough/jogar.py:59\u001b[0m, in \u001b[0;36mjoga11com_timeout\u001b[0;34m(game, jog1, jog2, nsec)\u001b[0m\n\u001b[1;32m     57\u001b[0m \u001b[38;5;28;01mwhile\u001b[39;00m \u001b[38;5;129;01mnot\u001b[39;00m game\u001b[38;5;241m.\u001b[39mterminal_test(estado):\n\u001b[1;32m     58\u001b[0m     \u001b[38;5;28;01mtry\u001b[39;00m:\n\u001b[0;32m---> 59\u001b[0m         ReturnedValue \u001b[38;5;241m=\u001b[39m \u001b[43mfunc_timeout\u001b[49m\u001b[43m(\u001b[49m\u001b[43mnsec\u001b[49m\u001b[43m,\u001b[49m\u001b[43m \u001b[49m\u001b[43mproxjog\u001b[49m\u001b[38;5;241;43m.\u001b[39;49m\u001b[43mfun\u001b[49m\u001b[43m,\u001b[49m\u001b[43m \u001b[49m\u001b[43margs\u001b[49m\u001b[38;5;241;43m=\u001b[39;49m\u001b[43m(\u001b[49m\u001b[43mgame\u001b[49m\u001b[43m,\u001b[49m\u001b[43m \u001b[49m\u001b[43mestado\u001b[49m\u001b[43m)\u001b[49m\u001b[43m)\u001b[49m\n\u001b[1;32m     60\u001b[0m     \u001b[38;5;28;01mexcept\u001b[39;00m FunctionTimedOut:\n\u001b[1;32m     61\u001b[0m         \u001b[38;5;28mprint\u001b[39m(\u001b[38;5;124m\"\u001b[39m\u001b[38;5;124mpim!\u001b[39m\u001b[38;5;124m\"\u001b[39m, proxjog\u001b[38;5;241m.\u001b[39mnome)\n",
      "File \u001b[0;32m~/.local/lib/python3.8/site-packages/func_timeout/dafunc.py:86\u001b[0m, in \u001b[0;36mfunc_timeout\u001b[0;34m(timeout, func, args, kwargs)\u001b[0m\n\u001b[1;32m     83\u001b[0m thread\u001b[38;5;241m.\u001b[39mdaemon \u001b[38;5;241m=\u001b[39m \u001b[38;5;28;01mTrue\u001b[39;00m\n\u001b[1;32m     85\u001b[0m thread\u001b[38;5;241m.\u001b[39mstart()\n\u001b[0;32m---> 86\u001b[0m \u001b[43mthread\u001b[49m\u001b[38;5;241;43m.\u001b[39;49m\u001b[43mjoin\u001b[49m\u001b[43m(\u001b[49m\u001b[43mtimeout\u001b[49m\u001b[43m)\u001b[49m\n\u001b[1;32m     88\u001b[0m stopException \u001b[38;5;241m=\u001b[39m \u001b[38;5;28;01mNone\u001b[39;00m\n\u001b[1;32m     89\u001b[0m \u001b[38;5;28;01mif\u001b[39;00m thread\u001b[38;5;241m.\u001b[39mis_alive():\n",
      "File \u001b[0;32m/usr/lib/python3.8/threading.py:1015\u001b[0m, in \u001b[0;36mThread.join\u001b[0;34m(self, timeout)\u001b[0m\n\u001b[1;32m   1011\u001b[0m     \u001b[38;5;28mself\u001b[39m\u001b[38;5;241m.\u001b[39m_wait_for_tstate_lock()\n\u001b[1;32m   1012\u001b[0m \u001b[38;5;28;01melse\u001b[39;00m:\n\u001b[1;32m   1013\u001b[0m     \u001b[38;5;66;03m# the behavior of a negative timeout isn't documented, but\u001b[39;00m\n\u001b[1;32m   1014\u001b[0m     \u001b[38;5;66;03m# historically .join(timeout=x) for x<0 has acted as if timeout=0\u001b[39;00m\n\u001b[0;32m-> 1015\u001b[0m     \u001b[38;5;28;43mself\u001b[39;49m\u001b[38;5;241;43m.\u001b[39;49m\u001b[43m_wait_for_tstate_lock\u001b[49m\u001b[43m(\u001b[49m\u001b[43mtimeout\u001b[49m\u001b[38;5;241;43m=\u001b[39;49m\u001b[38;5;28;43mmax\u001b[39;49m\u001b[43m(\u001b[49m\u001b[43mtimeout\u001b[49m\u001b[43m,\u001b[49m\u001b[43m \u001b[49m\u001b[38;5;241;43m0\u001b[39;49m\u001b[43m)\u001b[49m\u001b[43m)\u001b[49m\n",
      "File \u001b[0;32m/usr/lib/python3.8/threading.py:1027\u001b[0m, in \u001b[0;36mThread._wait_for_tstate_lock\u001b[0;34m(self, block, timeout)\u001b[0m\n\u001b[1;32m   1025\u001b[0m \u001b[38;5;28;01mif\u001b[39;00m lock \u001b[38;5;129;01mis\u001b[39;00m \u001b[38;5;28;01mNone\u001b[39;00m:  \u001b[38;5;66;03m# already determined that the C code is done\u001b[39;00m\n\u001b[1;32m   1026\u001b[0m     \u001b[38;5;28;01massert\u001b[39;00m \u001b[38;5;28mself\u001b[39m\u001b[38;5;241m.\u001b[39m_is_stopped\n\u001b[0;32m-> 1027\u001b[0m \u001b[38;5;28;01melif\u001b[39;00m \u001b[43mlock\u001b[49m\u001b[38;5;241;43m.\u001b[39;49m\u001b[43macquire\u001b[49m\u001b[43m(\u001b[49m\u001b[43mblock\u001b[49m\u001b[43m,\u001b[49m\u001b[43m \u001b[49m\u001b[43mtimeout\u001b[49m\u001b[43m)\u001b[49m:\n\u001b[1;32m   1028\u001b[0m     lock\u001b[38;5;241m.\u001b[39mrelease()\n\u001b[1;32m   1029\u001b[0m     \u001b[38;5;28mself\u001b[39m\u001b[38;5;241m.\u001b[39m_stop()\n",
      "\u001b[0;31mKeyboardInterrupt\u001b[0m: "
     ]
    }
   ],
   "source": [
    "from IIA2223 import *\n",
    "from jogar import *\n",
    "game = JogoBT_69420()\n",
    "j1 = JogadorAlfaBeta('Jog1', 4, func_eval_msqrn_2)\n",
    "j2 = JogadorAlfaBeta('Jog2', 4, func_eval_msqrn_2)\n",
    "faz_campeonato(game, [j1, j2], 20)"
   ]
  },
  {
   "cell_type": "code",
   "execution_count": null,
   "id": "968fdc35",
   "metadata": {},
   "outputs": [],
   "source": []
  }
 ],
 "metadata": {
  "kernelspec": {
   "display_name": "Python 3 (ipykernel)",
   "language": "python",
   "name": "python3"
  },
  "language_info": {
   "codemirror_mode": {
    "name": "ipython",
    "version": 3
   },
   "file_extension": ".py",
   "mimetype": "text/x-python",
   "name": "python",
   "nbconvert_exporter": "python",
   "pygments_lexer": "ipython3",
   "version": "3.8.10"
  }
 },
 "nbformat": 4,
 "nbformat_minor": 5
}
