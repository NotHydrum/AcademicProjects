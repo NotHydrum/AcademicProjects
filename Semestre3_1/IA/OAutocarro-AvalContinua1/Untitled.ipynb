{
 "cells": [
  {
   "cell_type": "code",
   "execution_count": 1,
   "id": "97714252",
   "metadata": {},
   "outputs": [],
   "source": [
    "from oBus import *"
   ]
  },
  {
   "cell_type": "code",
   "execution_count": 9,
   "id": "a4c004d8",
   "metadata": {},
   "outputs": [
    {
     "name": "stdout",
     "output_type": "stream",
     "text": [
      "['e', 'n']\n"
     ]
    }
   ],
   "source": [
    "dimensao=7\n",
    "estacao=(0,0)\n",
    "capacidade=1\n",
    "pedonais={((2,2),(2,3)),((2,2),(3,2)),((1,2),(2,2)),((2,1),(2,2))}\n",
    "sentidoUnico={((5,1),(5,0)),((4,0),(5,0))}\n",
    "intenso={((1,2),(1,3))}\n",
    "ligeiro={((2,3),(2,4))}\n",
    "tempos={'ligeiro': 200, 'médio': 500, 'intenso': 1500}\n",
    "tempoPassageiro=10\n",
    "clientes={1:((1,0),(2,0)),2:((1,0),(2,0))}\n",
    "mundo2=MundoBus(dimensao,estacao,capacidade,pedonais,sentidoUnico,intenso,ligeiro,tempos,tempoPassageiro,clientes)\n",
    "\n",
    "\n",
    "p2 = OBus(mundo=mundo2)\n",
    "print(p2.actions(p2.initial))"
   ]
  },
  {
   "cell_type": "code",
   "execution_count": 12,
   "id": "3165caf2",
   "metadata": {},
   "outputs": [],
   "source": [
    "e2=p2.result(p2.initial, 'e')"
   ]
  },
  {
   "cell_type": "code",
   "execution_count": 13,
   "id": "ff8cf583",
   "metadata": {},
   "outputs": [
    {
     "name": "stdout",
     "output_type": "stream",
     "text": [
      "EstadoBus(pos=(1, 0), pickup={1, 2}, destinos=set())\n"
     ]
    }
   ],
   "source": [
    "print(e2)"
   ]
  },
  {
   "cell_type": "code",
   "execution_count": 14,
   "id": "214d3c3b",
   "metadata": {},
   "outputs": [
    {
     "name": "stdout",
     "output_type": "stream",
     "text": [
      "[(set(), {1}), (set(), {2}), 'e', 'n', 'o']\n"
     ]
    }
   ],
   "source": [
    "print(p2.actions(e2))"
   ]
  },
  {
   "cell_type": "code",
   "execution_count": 15,
   "id": "053e779e",
   "metadata": {},
   "outputs": [
    {
     "name": "stdout",
     "output_type": "stream",
     "text": [
      "EstadoBus(pos=(1, 0), pickup={2}, destinos={1})\n"
     ]
    }
   ],
   "source": [
    "e3=p2.result(e2, (set(), {1}))\n",
    "print(e3)"
   ]
  },
  {
   "cell_type": "code",
   "execution_count": 16,
   "id": "88770b77",
   "metadata": {},
   "outputs": [
    {
     "name": "stdout",
     "output_type": "stream",
     "text": [
      "['e', 'n', 'o']\n"
     ]
    }
   ],
   "source": [
    "print(p2.actions(e3))"
   ]
  },
  {
   "cell_type": "code",
   "execution_count": 17,
   "id": "a9b807c7",
   "metadata": {},
   "outputs": [
    {
     "name": "stdout",
     "output_type": "stream",
     "text": [
      "EstadoBus(pos=(2, 0), pickup={2}, destinos={1})\n"
     ]
    }
   ],
   "source": [
    "e4=p2.result(e3, 'e')\n",
    "print(e4)"
   ]
  },
  {
   "cell_type": "code",
   "execution_count": 18,
   "id": "9eb9fe47",
   "metadata": {},
   "outputs": [
    {
     "name": "stdout",
     "output_type": "stream",
     "text": [
      "['e', 'n', 'o']\n"
     ]
    }
   ],
   "source": [
    "print(p2.actions(e4))"
   ]
  },
  {
   "cell_type": "code",
   "execution_count": 1,
   "id": "4b7ec185",
   "metadata": {},
   "outputs": [
    {
     "name": "stdout",
     "output_type": "stream",
     "text": [
      "Solução óptima em  3040s\n",
      "EstadoBus((0, 0),[1, 2],[])\n",
      "EstadoBus((1, 0),[1, 2],[])\n",
      "EstadoBus((1, 0),[2],[1])\n",
      "EstadoBus((2, 0),[2],[1])\n",
      "EstadoBus((2, 0),[2],[])\n",
      "EstadoBus((1, 0),[2],[])\n",
      "EstadoBus((1, 0),[],[2])\n",
      "EstadoBus((2, 0),[],[2])\n",
      "EstadoBus((2, 0),[],[])\n",
      "EstadoBus((1, 0),[],[])\n",
      "EstadoBus((0, 0),[],[])\n"
     ]
    }
   ],
   "source": [
    "from oBus import *\n",
    "dimensao=7\n",
    "estacao=(0,0)\n",
    "capacidade=1\n",
    "pedonais={((2,2),(2,3)),((2,2),(3,2)),((1,2),(2,2)),((2,1),(2,2))}\n",
    "sentidoUnico={((5,1),(5,0)),((4,0),(5,0))}\n",
    "intenso={((1,2),(1,3))}\n",
    "ligeiro={((2,3),(2,4))}\n",
    "tempos={'ligeiro': 200, 'médio': 500, 'intenso': 1500}\n",
    "tempoPassageiro=10\n",
    "clientes={1:((1,0),(2,0)),2:((1,0),(2,0))}\n",
    "mundo2=MundoBus(dimensao,estacao,capacidade,pedonais,sentidoUnico,intenso,ligeiro,tempos,tempoPassageiro,clientes)\n",
    "\n",
    "\n",
    "p2 = OBus(mundo=mundo2)\n",
    "resultado = uniform_cost_search(p2)\n",
    "if resultado == None:\n",
    "    print(\"Sem solução!\")\n",
    "else:\n",
    "    print(\"Solução óptima em \",str(resultado.path_cost)+'s')\n",
    "for step in resultado.path():\n",
    "        print(step.state.strCoderunner())"
   ]
  },
  {
   "cell_type": "code",
   "execution_count": 2,
   "id": "4e19bad6",
   "metadata": {},
   "outputs": [
    {
     "name": "stdout",
     "output_type": "stream",
     "text": [
      "Solução óptima em  8780s\n",
      "EstadoBus((2, 2),['A', 'B', 'C', 'D'],[])\n",
      "EstadoBus((1, 2),['A', 'B', 'C', 'D'],[])\n",
      "EstadoBus((0, 2),['A', 'B', 'C', 'D'],[])\n",
      "EstadoBus((0, 3),['A', 'B', 'C', 'D'],[])\n",
      "EstadoBus((0, 4),['A', 'B', 'C', 'D'],[])\n",
      "EstadoBus((1, 4),['A', 'B', 'C', 'D'],[])\n",
      "EstadoBus((1, 4),['C', 'D'],['A', 'B'])\n",
      "EstadoBus((1, 5),['C', 'D'],['A', 'B'])\n",
      "EstadoBus((2, 5),['C', 'D'],['A', 'B'])\n",
      "EstadoBus((2, 5),['C'],['B', 'D'])\n",
      "EstadoBus((1, 5),['C'],['B', 'D'])\n",
      "EstadoBus((1, 4),['C'],['B', 'D'])\n",
      "EstadoBus((1, 4),[],['B', 'C'])\n",
      "EstadoBus((2, 4),[],['B', 'C'])\n",
      "EstadoBus((2, 3),[],['B', 'C'])\n",
      "EstadoBus((3, 3),[],['B', 'C'])\n",
      "EstadoBus((4, 3),[],['B', 'C'])\n",
      "EstadoBus((4, 2),[],['B', 'C'])\n",
      "EstadoBus((4, 2),[],[])\n",
      "EstadoBus((4, 1),[],[])\n",
      "EstadoBus((3, 1),[],[])\n",
      "EstadoBus((2, 1),[],[])\n",
      "EstadoBus((2, 2),[],[])\n"
     ]
    }
   ],
   "source": [
    "dimensao=7\n",
    "estacao=(2,2)\n",
    "capacidade=2\n",
    "pedonais={((2,2),(2,3)),((2,2),(3,2)),((1,3),(1,4))}\n",
    "sentidoUnico={((2,1),(2,2)),((3,1),(3,2)),((3,2),(3,3))}\n",
    "intenso={((1,2),(1,3))}\n",
    "ligeiro={((0,2),(0,3)),((0,3),(1,3))}\n",
    "tempos={'ligeiro': 200, 'médio': 500, 'intenso': 1500}\n",
    "tempoPassageiro=10\n",
    "clientes={'A':((1,4),(2,5)),'B':((1,4),(4,2)),'C':((1,4),(4,2)),'D':((2,5),(1,4))}\n",
    "mundo4=MundoBus(dimensao,estacao,capacidade,pedonais,sentidoUnico,intenso,ligeiro,tempos,tempoPassageiro,clientes)\n",
    "\n",
    "p4 = OBus(mundo=mundo4)\n",
    "\n",
    "resultado = uniform_cost_search(p4)\n",
    "if resultado == None:\n",
    "    print(\"Sem solução!\")\n",
    "else:\n",
    "    print(\"Solução óptima em \",str(resultado.path_cost)+'s')\n",
    "for step in resultado.path():\n",
    "        print(step.state.strCoderunner())"
   ]
  },
  {
   "cell_type": "code",
   "execution_count": null,
   "id": "3f44de11",
   "metadata": {},
   "outputs": [],
   "source": []
  }
 ],
 "metadata": {
  "kernelspec": {
   "display_name": "Python 3 (ipykernel)",
   "language": "python",
   "name": "python3"
  },
  "language_info": {
   "codemirror_mode": {
    "name": "ipython",
    "version": 3
   },
   "file_extension": ".py",
   "mimetype": "text/x-python",
   "name": "python",
   "nbconvert_exporter": "python",
   "pygments_lexer": "ipython3",
   "version": "3.8.10"
  }
 },
 "nbformat": 4,
 "nbformat_minor": 5
}
