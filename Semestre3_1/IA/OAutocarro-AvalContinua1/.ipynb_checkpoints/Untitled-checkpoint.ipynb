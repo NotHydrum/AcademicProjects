{
 "cells": [
  {
   "cell_type": "code",
   "execution_count": 1,
   "id": "97714252",
   "metadata": {},
   "outputs": [],
   "source": [
    "from oBus import *"
   ]
  },
  {
   "cell_type": "code",
   "execution_count": 4,
   "id": "b103286e",
   "metadata": {},
   "outputs": [
    {
     "name": "stdout",
     "output_type": "stream",
     "text": [
      "Sem solução!\n"
     ]
    },
    {
     "ename": "AttributeError",
     "evalue": "'NoneType' object has no attribute 'path'",
     "output_type": "error",
     "traceback": [
      "\u001b[0;31m---------------------------------------------------------------------------\u001b[0m",
      "\u001b[0;31mAttributeError\u001b[0m                            Traceback (most recent call last)",
      "Cell \u001b[0;32mIn [4], line 20\u001b[0m\n\u001b[1;32m     18\u001b[0m \u001b[38;5;28;01melse\u001b[39;00m:\n\u001b[1;32m     19\u001b[0m     \u001b[38;5;28mprint\u001b[39m(\u001b[38;5;124m\"\u001b[39m\u001b[38;5;124mSolução óptima em \u001b[39m\u001b[38;5;124m\"\u001b[39m,\u001b[38;5;28mstr\u001b[39m(resultado\u001b[38;5;241m.\u001b[39mpath_cost)\u001b[38;5;241m+\u001b[39m\u001b[38;5;124m'\u001b[39m\u001b[38;5;124ms\u001b[39m\u001b[38;5;124m'\u001b[39m)\n\u001b[0;32m---> 20\u001b[0m \u001b[38;5;28;01mfor\u001b[39;00m step \u001b[38;5;129;01min\u001b[39;00m \u001b[43mresultado\u001b[49m\u001b[38;5;241;43m.\u001b[39;49m\u001b[43mpath\u001b[49m():\n\u001b[1;32m     21\u001b[0m         \u001b[38;5;28mprint\u001b[39m(step\u001b[38;5;241m.\u001b[39mstate\u001b[38;5;241m.\u001b[39mstrCoderunner())\n",
      "\u001b[0;31mAttributeError\u001b[0m: 'NoneType' object has no attribute 'path'"
     ]
    }
   ],
   "source": [
    "dimensao=7\n",
    "estacao=(0,0)\n",
    "capacidade=1\n",
    "pedonais={((2,2),(2,3)),((2,2),(3,2)),((1,2),(2,2)),((2,1),(2,2))}\n",
    "sentidoUnico={((5,1),(5,0)),((4,0),(5,0))}\n",
    "intenso={((1,2),(1,3))}\n",
    "ligeiro={((2,3),(2,4))}\n",
    "tempos={'ligeiro': 200, 'médio': 500, 'intenso': 1500}\n",
    "tempoPassageiro=10\n",
    "clientes={1:((1,0),(2,0)),2:((1,0),(2,0))}\n",
    "mundo2=MundoBus(dimensao,estacao,capacidade,pedonais,sentidoUnico,intenso,ligeiro,tempos,tempoPassageiro,clientes)\n",
    "\n",
    "\n",
    "p2 = OBus(mundo=mundo2)\n",
    "resultado = uniform_cost_search(p2)\n",
    "if resultado == None:\n",
    "    print(\"Sem solução!\")\n",
    "else:\n",
    "    print(\"Solução óptima em \",str(resultado.path_cost)+'s')\n",
    "for step in resultado.path():\n",
    "        print(step.state.strCoderunner())"
   ]
  },
  {
   "cell_type": "code",
   "execution_count": null,
   "id": "b14255b1",
   "metadata": {},
   "outputs": [],
   "source": []
  }
 ],
 "metadata": {
  "kernelspec": {
   "display_name": "Python 3 (ipykernel)",
   "language": "python",
   "name": "python3"
  },
  "language_info": {
   "codemirror_mode": {
    "name": "ipython",
    "version": 3
   },
   "file_extension": ".py",
   "mimetype": "text/x-python",
   "name": "python",
   "nbconvert_exporter": "python",
   "pygments_lexer": "ipython3",
   "version": "3.8.10"
  }
 },
 "nbformat": 4,
 "nbformat_minor": 5
}
