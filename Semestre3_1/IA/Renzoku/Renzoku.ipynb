{
 "cells": [
  {
   "cell_type": "markdown",
   "metadata": {},
   "source": [
    "# Introdução à Inteligência Artificial (2022/2023)\n",
    "\n",
    "##  Avaliação contínua 3 - Quizz Moodle \n",
    "#### Lançamento: manhã de 30 de Novembro\n",
    "#### Entrega até: 7 de Dezembro (23:59)"
   ]
  },
  {
   "cell_type": "markdown",
   "metadata": {},
   "source": [
    "## Introdução\n",
    "O Renzoku é um puzzle jogado numa grelha $N \\times N$ em que:\n",
    "\n",
    "1. as casas vazias têm de ser preenchidas por números de 1 a N (cada casa apenas um número).\n",
    "2. as casas de cada linha e cada coluna não podem ter números repetidos e,\n",
    "3. um ponto entre duas casas indica que os números dessa casas têm de ser consecutivos e a ausência de ponto indica que essas casas não podem ser preenchidas por números consecutivos.\n",
    "\n",
    "Vejam um exemplo de um puzle numa grelha $4 \\times 4$ (à esquerda) e a solução (à direita) \n",
    "<img src=\"imagens\\renzoku.PNG\" width=300 height=300 />"
   ]
  },
  {
   "cell_type": "markdown",
   "metadata": {},
   "source": [
    "## Objectivo\n",
    "Nesta avaliação contínua é necessário formular este puzzle como um Problema de Satisfação de Restrições (CSP), utilizando a *framework* do aima-python introduzida numa das aulas práticas.\n",
    "É necessário desenvolver a função `CSP_renzoku` que recebe como input, por esta ordem:\n",
    "\n",
    "* a dimensão do tabuleiro\n",
    "* a lista de afectações iniciais de números a casas\n",
    "* o conjunto de pontos\n",
    "\n",
    "e que devolve uma instância da classe `CSP`.\n",
    "\n",
    "### As casas\n",
    "Vamos representar as casas como tuplos $(l,c)$ com as coordenadas das casas em termos da linha $l$ e da coluna $c$ em que a linha de topo é a $1$ e a coluna da esquerda é a $1$.\n",
    "\n",
    "### Afectações\n",
    "As afectações são representadas num dicionário em que as casas são as chaves e os números são os valores.\n",
    "\n",
    "### Pontos\n",
    "Vamos representar os pontos como conjuntos em que cada ponto é um tuplo $(casa1,casa2)$ em que:\n",
    "\n",
    "* no caso de pontos horizontais temos: $(casa1,casa2)=((l,c),(l,c+1))$.\n",
    "* no caso de pontos verticais temos: $(casa1,casa2)=((l,c),(l+1,c))$."
   ]
  },
  {
   "cell_type": "markdown",
   "metadata": {},
   "source": [
    "## Exemplos\n",
    "Vamos dar $3$ exemplos de puzzles com a invocação da função `CSP_renzoku` e as respetivas soluções, obtidas através do uso da função `backtracking_search` standard. Estes exemplos correspondem aos testes visíveis do Quizz."
   ]
  },
  {
   "cell_type": "markdown",
   "metadata": {},
   "source": [
    "### Exemplo 1\n",
    "<img src=\"imagens/Rensoku1.PNG\" width=150 height=150 />\n",
    "\n",
    "```python\n",
    "valores={(2,1):1}\n",
    "pontos={((1,2),(1,3)),((1,4),(2,4)),((2,2),(2,3)),((2,3),(2,4)),((2,3),(3,3)),\\\n",
    "        ((3,2),(3,3)),((3,1),(4,1)),((4,1),(4,2)),((4,2),(4,3))}\n",
    "p = CSP_renzoku(4,valores,pontos)\n",
    "r = backtracking_search(p)\n",
    "print('Afectações p = ',r)\n",
    "```"
   ]
  },
  {
   "cell_type": "markdown",
   "metadata": {},
   "source": [
    "```python\n",
    "Afectações p =  {(1, 1): 4, (1, 2): 2, (1, 3): 1, (1, 4): 3, (2, 1): 1, (2, 2): 4, (2, 3): 3, (2, 4): 2, (3, 1): 3, (3, 2): 1, (3, 3): 2, (3, 4): 4, (4, 1): 2, (4, 2): 3, (4, 3): 4, (4, 4): 1}\n",
    "```"
   ]
  },
  {
   "cell_type": "markdown",
   "metadata": {},
   "source": [
    "### Exemplo 2\n",
    "<img src=\"imagens/Rensoku2.PNG\" width=150 height=150 />\n",
    "\n",
    "```python\n",
    "valores={(1,3):3,(5,4):5}\n",
    "pontos={((1,2),(1,3)),((1,2),(2,2)),((1,5),(2,5)),\\\n",
    "        ((2,1),(2,2)),((2,1),(3,1)),((2,2),(3,2)),((2,4),(2,5)),((2,4),(3,4)),\\\n",
    "        ((3,2),(3,3)),((3,2),(4,2)),((3,3),(4,3)),((3,4),(3,5)),((3,5),(4,5)),((3,4),(4,4)),\\\n",
    "        ((4,1),(5,1)),((4,2),(4,3)),((4,4),(4,5)),((5,2),(5,3))}\n",
    "p = CSP_renzoku(5,valores,pontos)\n",
    "r = backtracking_search(p)\n",
    "print('Afectações p = ',r)\n",
    "```"
   ]
  },
  {
   "cell_type": "markdown",
   "metadata": {},
   "source": [
    "```python\n",
    "Afectações p =  {(1, 1): 5, (1, 2): 2, (1, 3): 3, (1, 4): 1, (1, 5): 4, (2, 1): 2, (2, 2): 3, (2, 3): 1, (2, 4): 4, (2, 5): 5, (3, 1): 1, (3, 2): 4, (3, 3): 5, (3, 4): 3, (3, 5): 2, (4, 1): 3, (4, 2): 5, (4, 3): 4, (4, 4): 2, (4, 5): 1, (5, 1): 4, (5, 2): 1, (5, 3): 2, (5, 4): 5, (5, 5): 3}\n",
    "```"
   ]
  },
  {
   "cell_type": "markdown",
   "metadata": {},
   "source": [
    "### Exemplo 3\n",
    "<img src=\"imagens/Rensoku3.PNG\" width=170 height=170 />\n",
    "\n",
    "```python\n",
    "valores={(3,1):5, (6,1):6}\n",
    "pontos={((1,1),(2,1)),((1,2),(1,3)),((1,3),(2,3)),((1,5),(1,6)),((1,5),(2,5)),\\\n",
    "        ((2,4),(3,4)),\\\n",
    "        ((3,2),(3,3)),((3,3),(4,3)),((3,4),(3,5)),((3,4),(4,4)),((3,5),(4,5)),((3,6),(3,7)),\\\n",
    "        ((4,1),(4,2)),((4,4),(4,5)),((4,4),(5,4)),((4,5),(4,6)),((4,6),(5,6)),\\\n",
    "        ((5,3),(5,4)),((5,4),(5,5)),((5,6),(5,7)),\\\n",
    "        ((6,2),(6,3)),((6,2),(7,2)),((6,3),(7,3)),((6,3),(6,4)),((6,4),(6,5)),((6,5),(7,5)),((6,6),(7,6)),\\\n",
    "        ((7,2),(7,3)),((7,6),(7,7))}\n",
    "p = CSP_renzoku(7,valores,pontos)\n",
    "r = backtracking_search(p)\n",
    "print('Afectações p = ',r)\n",
    "```"
   ]
  },
  {
   "cell_type": "markdown",
   "metadata": {},
   "source": [
    "```python\n",
    "Afectações p =  {(1, 1): 3, (1, 2): 7, (1, 3): 6, (1, 4): 1, (1, 5): 5, (1, 6): 4, (1, 7): 2, (2, 1): 2, (2, 2): 5, (2, 3): 7, (2, 4): 3, (2, 5): 6, (2, 6): 1, (2, 7): 4, (3, 1): 5, (3, 2): 2, (3, 3): 1, (3, 4): 4, (3, 5): 3, (3, 6): 7, (3, 7): 6, (4, 1): 7, (4, 2): 6, (4, 3): 2, (4, 4): 5, (4, 5): 4, (4, 6): 3, (4, 7): 1, (5, 1): 4, (5, 2): 1, (5, 3): 5, (5, 4): 6, (5, 5): 7, (5, 6): 2, (5, 7): 3, (6, 1): 6, (6, 2): 4, (6, 3): 3, (6, 4): 2, (6, 5): 1, (6, 6): 5, (6, 7): 7, (7, 1): 1, (7, 2): 3, (7, 3): 4, (7, 4): 7, (7, 5): 2, (7, 6): 6, (7, 7): 5}\n",
    "```"
   ]
  },
  {
   "cell_type": "markdown",
   "metadata": {},
   "source": [
    "## Quizz\n",
    "Esta avaliação vale $1.25$ em 20 e é um Quiz do Moodle com correcção automática. Os testes visíveis valem 0.75 e os invisíveis 0.5. Podem submeter as vezes que quiserem sem penalizações. O prazo é 7 de Dezembro às 23:59.\n",
    "\n",
    "\n",
    "<img src=\"imagens/RensokuCapa.PNG\" width=120 height=120 />\n"
   ]
  },
  {
   "cell_type": "code",
   "execution_count": null,
   "metadata": {},
   "outputs": [],
   "source": []
  }
 ],
 "metadata": {
  "kernelspec": {
   "display_name": "Python 3 (ipykernel)",
   "language": "python",
   "name": "python3"
  },
  "language_info": {
   "codemirror_mode": {
    "name": "ipython",
    "version": 3
   },
   "file_extension": ".py",
   "mimetype": "text/x-python",
   "name": "python",
   "nbconvert_exporter": "python",
   "pygments_lexer": "ipython3",
   "version": "3.8.10"
  }
 },
 "nbformat": 4,
 "nbformat_minor": 2
}
