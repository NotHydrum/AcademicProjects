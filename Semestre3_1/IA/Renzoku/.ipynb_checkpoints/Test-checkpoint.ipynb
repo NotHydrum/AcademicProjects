{
 "cells": [
  {
   "cell_type": "code",
   "execution_count": 1,
   "id": "66d7e142",
   "metadata": {},
   "outputs": [
    {
     "name": "stdout",
     "output_type": "stream",
     "text": [
      "((1, 2), (1, 3))\n"
     ]
    },
    {
     "ename": "KeyError",
     "evalue": "((1, 2), (1, 3))",
     "output_type": "error",
     "traceback": [
      "\u001b[0;31m---------------------------------------------------------------------------\u001b[0m",
      "\u001b[0;31mKeyError\u001b[0m                                  Traceback (most recent call last)",
      "Cell \u001b[0;32mIn [1], line 6\u001b[0m\n\u001b[1;32m      3\u001b[0m pontos\u001b[38;5;241m=\u001b[39m[((\u001b[38;5;241m1\u001b[39m,\u001b[38;5;241m2\u001b[39m),(\u001b[38;5;241m1\u001b[39m,\u001b[38;5;241m3\u001b[39m)),((\u001b[38;5;241m1\u001b[39m,\u001b[38;5;241m4\u001b[39m),(\u001b[38;5;241m2\u001b[39m,\u001b[38;5;241m4\u001b[39m)),((\u001b[38;5;241m2\u001b[39m,\u001b[38;5;241m2\u001b[39m),(\u001b[38;5;241m2\u001b[39m,\u001b[38;5;241m3\u001b[39m)),((\u001b[38;5;241m2\u001b[39m,\u001b[38;5;241m3\u001b[39m),(\u001b[38;5;241m2\u001b[39m,\u001b[38;5;241m4\u001b[39m)),((\u001b[38;5;241m2\u001b[39m,\u001b[38;5;241m3\u001b[39m),(\u001b[38;5;241m3\u001b[39m,\u001b[38;5;241m3\u001b[39m)),\\\n\u001b[1;32m      4\u001b[0m         ((\u001b[38;5;241m3\u001b[39m,\u001b[38;5;241m2\u001b[39m),(\u001b[38;5;241m3\u001b[39m,\u001b[38;5;241m3\u001b[39m)),((\u001b[38;5;241m3\u001b[39m,\u001b[38;5;241m1\u001b[39m),(\u001b[38;5;241m4\u001b[39m,\u001b[38;5;241m1\u001b[39m)),((\u001b[38;5;241m4\u001b[39m,\u001b[38;5;241m1\u001b[39m),(\u001b[38;5;241m4\u001b[39m,\u001b[38;5;241m2\u001b[39m)),((\u001b[38;5;241m4\u001b[39m,\u001b[38;5;241m2\u001b[39m),(\u001b[38;5;241m4\u001b[39m,\u001b[38;5;241m3\u001b[39m))]\n\u001b[1;32m      5\u001b[0m p \u001b[38;5;241m=\u001b[39m CSP_renzoku(\u001b[38;5;241m4\u001b[39m,valores,pontos)\n\u001b[0;32m----> 6\u001b[0m r \u001b[38;5;241m=\u001b[39m \u001b[43mbacktracking_search\u001b[49m\u001b[43m(\u001b[49m\u001b[43mp\u001b[49m\u001b[43m)\u001b[49m\n\u001b[1;32m      7\u001b[0m \u001b[38;5;28mprint\u001b[39m(\u001b[38;5;124m'\u001b[39m\u001b[38;5;124mAfectações p = \u001b[39m\u001b[38;5;124m'\u001b[39m,r)\n",
      "File \u001b[0;32m~/Documents/IA/Renzoku/csp.py:325\u001b[0m, in \u001b[0;36mbacktracking_search\u001b[0;34m(csp, select_unassigned_variable, order_domain_values, inference, verbose)\u001b[0m\n\u001b[1;32m    322\u001b[0m     csp\u001b[38;5;241m.\u001b[39munassign(var, assignment)\n\u001b[1;32m    323\u001b[0m     \u001b[38;5;28;01mreturn\u001b[39;00m \u001b[38;5;28;01mNone\u001b[39;00m\n\u001b[0;32m--> 325\u001b[0m result \u001b[38;5;241m=\u001b[39m \u001b[43mbacktrack\u001b[49m\u001b[43m(\u001b[49m\u001b[43m{\u001b[49m\u001b[43m}\u001b[49m\u001b[43m)\u001b[49m\n\u001b[1;32m    326\u001b[0m \u001b[38;5;28;01massert\u001b[39;00m result \u001b[38;5;129;01mis\u001b[39;00m \u001b[38;5;28;01mNone\u001b[39;00m \u001b[38;5;129;01mor\u001b[39;00m csp\u001b[38;5;241m.\u001b[39mgoal_test(result)\n\u001b[1;32m    327\u001b[0m \u001b[38;5;28;01mreturn\u001b[39;00m result\n",
      "File \u001b[0;32m~/Documents/IA/Renzoku/csp.py:306\u001b[0m, in \u001b[0;36mbacktracking_search.<locals>.backtrack\u001b[0;34m(assignment)\u001b[0m\n\u001b[1;32m    303\u001b[0m \u001b[38;5;28;01mif\u001b[39;00m (verbose):\n\u001b[1;32m    304\u001b[0m     \u001b[38;5;28mprint\u001b[39m(\u001b[38;5;124m\"\u001b[39m\u001b[38;5;124mVar =\u001b[39m\u001b[38;5;124m\"\u001b[39m, var)\n\u001b[0;32m--> 306\u001b[0m \u001b[38;5;28;01mfor\u001b[39;00m value \u001b[38;5;129;01min\u001b[39;00m \u001b[43morder_domain_values\u001b[49m\u001b[43m(\u001b[49m\u001b[43mvar\u001b[49m\u001b[43m,\u001b[49m\u001b[43m \u001b[49m\u001b[43massignment\u001b[49m\u001b[43m,\u001b[49m\u001b[43m \u001b[49m\u001b[43mcsp\u001b[49m\u001b[43m)\u001b[49m:\n\u001b[1;32m    307\u001b[0m     \u001b[38;5;28;01mif\u001b[39;00m (verbose):\n\u001b[1;32m    308\u001b[0m         \u001b[38;5;28mprint\u001b[39m(\u001b[38;5;124m\"\u001b[39m\u001b[38;5;124m--Test \u001b[39m\u001b[38;5;124m\"\u001b[39m, var, value)\n",
      "File \u001b[0;32m~/Documents/IA/Renzoku/csp.py:246\u001b[0m, in \u001b[0;36munordered_domain_values\u001b[0;34m(var, assignment, csp)\u001b[0m\n\u001b[1;32m    244\u001b[0m \u001b[38;5;28;01mdef\u001b[39;00m \u001b[38;5;21munordered_domain_values\u001b[39m(var, assignment, csp):\n\u001b[1;32m    245\u001b[0m     \u001b[38;5;124m\"\u001b[39m\u001b[38;5;124mThe default value order.\u001b[39m\u001b[38;5;124m\"\u001b[39m\n\u001b[0;32m--> 246\u001b[0m     \u001b[38;5;28;01mreturn\u001b[39;00m \u001b[43mcsp\u001b[49m\u001b[38;5;241;43m.\u001b[39;49m\u001b[43mchoices\u001b[49m\u001b[43m(\u001b[49m\u001b[43mvar\u001b[49m\u001b[43m)\u001b[49m\n",
      "File \u001b[0;32m~/Documents/IA/Renzoku/csp.py:141\u001b[0m, in \u001b[0;36mCSP.choices\u001b[0;34m(self, var)\u001b[0m\n\u001b[1;32m    139\u001b[0m \u001b[38;5;28mprint\u001b[39m(var)\n\u001b[1;32m    140\u001b[0m \u001b[38;5;124m\"\u001b[39m\u001b[38;5;124mReturn all values for var that aren\u001b[39m\u001b[38;5;124m'\u001b[39m\u001b[38;5;124mt currently ruled out.\u001b[39m\u001b[38;5;124m\"\u001b[39m\n\u001b[0;32m--> 141\u001b[0m \u001b[38;5;28;01mreturn\u001b[39;00m \u001b[43m(\u001b[49m\u001b[38;5;28;43mself\u001b[39;49m\u001b[38;5;241;43m.\u001b[39;49m\u001b[43mcurr_domains\u001b[49m\u001b[43m \u001b[49m\u001b[38;5;129;43;01mor\u001b[39;49;00m\u001b[43m \u001b[49m\u001b[38;5;28;43mself\u001b[39;49m\u001b[38;5;241;43m.\u001b[39;49m\u001b[43mdomains\u001b[49m\u001b[43m)\u001b[49m\u001b[43m[\u001b[49m\u001b[43mvar\u001b[49m\u001b[43m]\u001b[49m\n",
      "\u001b[0;31mKeyError\u001b[0m: ((1, 2), (1, 3))"
     ]
    }
   ],
   "source": [
    "from renzoku import *\n",
    "valores={(2,1):1}\n",
    "pontos=[((1,2),(1,3)),((1,4),(2,4)),((2,2),(2,3)),((2,3),(2,4)),((2,3),(3,3)),\\\n",
    "        ((3,2),(3,3)),((3,1),(4,1)),((4,1),(4,2)),((4,2),(4,3))]\n",
    "p = CSP_renzoku(4,valores,pontos)\n",
    "print(p.domains)\n",
    "r = backtracking_search(p)\n",
    "print('Afectações p = ',r)"
   ]
  },
  {
   "cell_type": "code",
   "execution_count": null,
   "id": "ad7ca477",
   "metadata": {},
   "outputs": [],
   "source": []
  }
 ],
 "metadata": {
  "kernelspec": {
   "display_name": "Python 3 (ipykernel)",
   "language": "python",
   "name": "python3"
  },
  "language_info": {
   "codemirror_mode": {
    "name": "ipython",
    "version": 3
   },
   "file_extension": ".py",
   "mimetype": "text/x-python",
   "name": "python",
   "nbconvert_exporter": "python",
   "pygments_lexer": "ipython3",
   "version": "3.8.10"
  }
 },
 "nbformat": 4,
 "nbformat_minor": 5
}
